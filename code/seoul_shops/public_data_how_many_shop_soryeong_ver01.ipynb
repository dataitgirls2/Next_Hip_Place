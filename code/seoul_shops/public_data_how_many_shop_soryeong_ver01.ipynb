{
 "cells": [
  {
   "cell_type": "code",
   "execution_count": 1,
   "metadata": {},
   "outputs": [],
   "source": [
    "import warnings\n",
    "warnings.filterwarnings('ignore')"
   ]
  },
  {
   "cell_type": "code",
   "execution_count": 2,
   "metadata": {},
   "outputs": [],
   "source": [
    "import pandas as pd\n",
    "from plotnine import *"
   ]
  },
  {
   "cell_type": "code",
   "execution_count": 3,
   "metadata": {},
   "outputs": [
    {
     "name": "stdout",
     "output_type": "stream",
     "text": [
      " C 드라이브의 볼륨: Windows\n",
      " 볼륨 일련 번호: 44EC-5869\n",
      "\n",
      " C:\\Users\\rlath\\JupyterNotebook\\final project 디렉터리\n",
      "\n",
      "2018-09-05  오전 11:16    <DIR>          .\n",
      "2018-09-05  오전 11:16    <DIR>          ..\n",
      "2018-09-05  오전 11:16    <DIR>          .ipynb_checkpoints\n",
      "2018-09-05  오전 11:15    <DIR>          data\n",
      "2018-09-05  오전 11:16                72 Untitled.ipynb\n",
      "               1개 파일                  72 바이트\n",
      "               4개 디렉터리  168,649,916,416 바이트 남음\n"
     ]
    }
   ],
   "source": [
    "%ls"
   ]
  },
  {
   "cell_type": "code",
   "execution_count": 83,
   "metadata": {},
   "outputs": [],
   "source": [
    "df_shop_1512 = pd.read_csv('data/data_seoul_shop_201512_01.csv', encoding='cp949')"
   ]
  },
  {
   "cell_type": "code",
   "execution_count": 84,
   "metadata": {},
   "outputs": [],
   "source": [
    "df_shop_1512_seoul_address = df_shop_1512.loc[df_shop_1512['시도명'] == '서울특별시'].copy(deep=True)"
   ]
  },
  {
   "cell_type": "code",
   "execution_count": 85,
   "metadata": {},
   "outputs": [],
   "source": [
    "df_shop_1512_seoul_address = df_shop_1512_seoul_address[['시도명', '시군구명', '행정동명', '법정동명', '지번주소', '도로명']].copy(deep=True)"
   ]
  },
  {
   "cell_type": "code",
   "execution_count": 88,
   "metadata": {},
   "outputs": [],
   "source": [
    "df_itaewon_1512 = df_shop_1512_seoul_address.loc[df_shop_1512_seoul_address['법정동명'] == '이태원동'].copy(deep=True)"
   ]
  },
  {
   "cell_type": "code",
   "execution_count": 87,
   "metadata": {},
   "outputs": [
    {
     "data": {
      "text/plain": [
       "2085"
      ]
     },
     "execution_count": 87,
     "metadata": {},
     "output_type": "execute_result"
    }
   ],
   "source": [
    "len(df_itaewon_1512)"
   ]
  },
  {
   "cell_type": "code",
   "execution_count": 90,
   "metadata": {},
   "outputs": [],
   "source": [
    "def how_many_shops_in(filename, area):\n",
    "    df = pd.read_csv(filename, encoding='cp949')\n",
    "#     df_seoul = df.loc[df['시도명'] == '서울특별시'].copy(deep=True)\n",
    "#     df_address = df_seoul[['시도명', '시군구명', '행정동명', '법정동명', '지번주소', '도로명']].copy(deep=True)\n",
    "    df = df.loc[df['법정동명'] == area].copy(deep=True)\n",
    "    \n",
    "    return len(df)"
   ]
  },
  {
   "cell_type": "code",
   "execution_count": 97,
   "metadata": {},
   "outputs": [],
   "source": [
    "filenames = [f'data/data_seoul_shop_201{y}{m:02}_01.csv'\\\n",
    "            for y in range(5,9)\n",
    "            for m in range(3,13,3)][3:14]"
   ]
  },
  {
   "cell_type": "code",
   "execution_count": 106,
   "metadata": {},
   "outputs": [
    {
     "data": {
      "text/plain": [
       "'data/data_seoul_shop_201712_01.csv'"
      ]
     },
     "execution_count": 106,
     "metadata": {},
     "output_type": "execute_result"
    }
   ],
   "source": [
    "filenames.pop(-3)"
   ]
  },
  {
   "cell_type": "code",
   "execution_count": 107,
   "metadata": {},
   "outputs": [
    {
     "data": {
      "text/plain": [
       "['data/data_seoul_shop_201512_01.csv',\n",
       " 'data/data_seoul_shop_201603_01.csv',\n",
       " 'data/data_seoul_shop_201606_01.csv',\n",
       " 'data/data_seoul_shop_201609_01.csv',\n",
       " 'data/data_seoul_shop_201612_01.csv',\n",
       " 'data/data_seoul_shop_201703_01.csv',\n",
       " 'data/data_seoul_shop_201706_01.csv',\n",
       " 'data/data_seoul_shop_201709_01.csv',\n",
       " 'data/data_seoul_shop_201803_01.csv',\n",
       " 'data/data_seoul_shop_201806_01.csv']"
      ]
     },
     "execution_count": 107,
     "metadata": {},
     "output_type": "execute_result"
    }
   ],
   "source": [
    "filenames"
   ]
  },
  {
   "cell_type": "code",
   "execution_count": 108,
   "metadata": {},
   "outputs": [
    {
     "name": "stdout",
     "output_type": "stream",
     "text": [
      "201512 : 2085\n",
      "201603 : 2434\n",
      "201606 : 2406\n",
      "201609 : 2206\n",
      "201612 : 2486\n",
      "201703 : 2460\n",
      "201706 : 2455\n",
      "201709 : 2438\n",
      "201803 : 2004\n",
      "201806 : 2011\n"
     ]
    }
   ],
   "source": [
    "for file in filenames:\n",
    "    print(file[21:27], ':', how_many_shops_in(file, '이태원동'))"
   ]
  },
  {
   "cell_type": "code",
   "execution_count": 101,
   "metadata": {},
   "outputs": [
    {
     "data": {
      "text/plain": [
       "1977"
      ]
     },
     "execution_count": 101,
     "metadata": {},
     "output_type": "execute_result"
    }
   ],
   "source": [
    "t = pd.read_csv('data/data_seoul_shop_201712_01.csv')\n",
    "t = t.loc[t['법정동명'] == '이태원동']"
   ]
  },
  {
   "cell_type": "code",
   "execution_count": 110,
   "metadata": {},
   "outputs": [
    {
     "name": "stdout",
     "output_type": "stream",
     "text": [
      "201712 :  1977\n"
     ]
    }
   ],
   "source": [
    "print('201712 : ', len(t))"
   ]
  },
  {
   "cell_type": "code",
   "execution_count": 125,
   "metadata": {},
   "outputs": [],
   "source": [
    "df_itaewon = pd.DataFrame({201512 : 2085, 201603 : 2434, 201606 : 2406, 201609 : 2206, 201612 : 2486,\n",
    "                 201703 : 2460, 201706 : 2455, 201709 : 2438, 201712 : 1977, 201803 : 2004, 201806 : 2011}, index=range(1))"
   ]
  },
  {
   "cell_type": "code",
   "execution_count": 126,
   "metadata": {},
   "outputs": [
    {
     "data": {
      "text/html": [
       "<div>\n",
       "<style scoped>\n",
       "    .dataframe tbody tr th:only-of-type {\n",
       "        vertical-align: middle;\n",
       "    }\n",
       "\n",
       "    .dataframe tbody tr th {\n",
       "        vertical-align: top;\n",
       "    }\n",
       "\n",
       "    .dataframe thead th {\n",
       "        text-align: right;\n",
       "    }\n",
       "</style>\n",
       "<table border=\"1\" class=\"dataframe\">\n",
       "  <thead>\n",
       "    <tr style=\"text-align: right;\">\n",
       "      <th></th>\n",
       "      <th>201512</th>\n",
       "      <th>201603</th>\n",
       "      <th>201606</th>\n",
       "      <th>201609</th>\n",
       "      <th>201612</th>\n",
       "      <th>201703</th>\n",
       "      <th>201706</th>\n",
       "      <th>201709</th>\n",
       "      <th>201712</th>\n",
       "      <th>201803</th>\n",
       "      <th>201806</th>\n",
       "    </tr>\n",
       "  </thead>\n",
       "  <tbody>\n",
       "    <tr>\n",
       "      <th>0</th>\n",
       "      <td>2085</td>\n",
       "      <td>2434</td>\n",
       "      <td>2406</td>\n",
       "      <td>2206</td>\n",
       "      <td>2486</td>\n",
       "      <td>2460</td>\n",
       "      <td>2455</td>\n",
       "      <td>2438</td>\n",
       "      <td>1977</td>\n",
       "      <td>2004</td>\n",
       "      <td>2011</td>\n",
       "    </tr>\n",
       "  </tbody>\n",
       "</table>\n",
       "</div>"
      ],
      "text/plain": [
       "   201512  201603  201606  201609  201612  201703  201706  201709  201712  \\\n",
       "0    2085    2434    2406    2206    2486    2460    2455    2438    1977   \n",
       "\n",
       "   201803  201806  \n",
       "0    2004    2011  "
      ]
     },
     "execution_count": 126,
     "metadata": {},
     "output_type": "execute_result"
    }
   ],
   "source": [
    "df_itaewon"
   ]
  },
  {
   "cell_type": "code",
   "execution_count": 127,
   "metadata": {},
   "outputs": [
    {
     "name": "stdout",
     "output_type": "stream",
     "text": [
      "201512 : 772\n",
      "201603 : 913\n",
      "201606 : 895\n",
      "201609 : 470\n",
      "201612 : 682\n",
      "201703 : 704\n",
      "201706 : 745\n",
      "201709 : 658\n",
      "201803 : 764\n",
      "201806 : 774\n"
     ]
    }
   ],
   "source": [
    "for file in filenames:\n",
    "    print(file[21:27], ':', how_many_shops_in(file, '연남동'))"
   ]
  },
  {
   "cell_type": "code",
   "execution_count": 129,
   "metadata": {},
   "outputs": [],
   "source": [
    "y = pd.read_csv('data/data_seoul_shop_201712_01.csv')\n",
    "y = y.loc[y['법정동명'] == '연남동']"
   ]
  },
  {
   "cell_type": "code",
   "execution_count": 132,
   "metadata": {},
   "outputs": [
    {
     "name": "stdout",
     "output_type": "stream",
     "text": [
      "201712 :  698\n"
     ]
    }
   ],
   "source": [
    "print('201712 : ', len(y))"
   ]
  },
  {
   "cell_type": "code",
   "execution_count": 130,
   "metadata": {},
   "outputs": [
    {
     "name": "stdout",
     "output_type": "stream",
     "text": [
      "201512 : 584\n",
      "201603 : 728\n",
      "201606 : 713\n",
      "201609 : 509\n",
      "201612 : 612\n",
      "201703 : 623\n",
      "201706 : 639\n",
      "201709 : 523\n",
      "201803 : 569\n",
      "201806 : 576\n"
     ]
    }
   ],
   "source": [
    "for file in filenames:\n",
    "    print(file[21:27], ':', how_many_shops_in(file, '상수동'))"
   ]
  },
  {
   "cell_type": "code",
   "execution_count": 133,
   "metadata": {},
   "outputs": [
    {
     "name": "stdout",
     "output_type": "stream",
     "text": [
      "201712 :  543\n"
     ]
    }
   ],
   "source": [
    "s = pd.read_csv('data/data_seoul_shop_201712_01.csv')\n",
    "s = s.loc[s['법정동명'] == '상수동']\n",
    "print('201712 : ', len(s))"
   ]
  },
  {
   "cell_type": "code",
   "execution_count": 134,
   "metadata": {},
   "outputs": [
    {
     "name": "stdout",
     "output_type": "stream",
     "text": [
      "201512 : 2541\n",
      "201603 : 3242\n",
      "201606 : 3210\n",
      "201609 : 2124\n",
      "201612 : 2466\n",
      "201703 : 2478\n",
      "201706 : 2516\n",
      "201709 : 2358\n",
      "201803 : 2229\n",
      "201806 : 2248\n"
     ]
    }
   ],
   "source": [
    "for file in filenames:\n",
    "    print(file[21:27], ':', how_many_shops_in(file, '상도동'))"
   ]
  },
  {
   "cell_type": "code",
   "execution_count": 135,
   "metadata": {},
   "outputs": [],
   "source": [
    "sangdo = pd.read_csv('data/data_seoul_shop_201712_01.csv')\n",
    "sangdo = sangdo.loc[sangdo['법정동명'] == '상도동']"
   ]
  },
  {
   "cell_type": "code",
   "execution_count": 144,
   "metadata": {},
   "outputs": [
    {
     "name": "stdout",
     "output_type": "stream",
     "text": [
      "201712 : 2197\n"
     ]
    }
   ],
   "source": [
    "print('201712 :', len(sangdo))"
   ]
  },
  {
   "cell_type": "code",
   "execution_count": 139,
   "metadata": {},
   "outputs": [],
   "source": [
    "df_yeonnam = pd.DataFrame({201512 : 772, 201603 : 913, 201606 : 895, 201609 : 470, 201612 : 682,\n",
    "                           201703 : 704, 201706 : 745, 201709 : 658, 201712 : 698, 201803 : 764, 201806 : 774}, index=range(1))"
   ]
  },
  {
   "cell_type": "code",
   "execution_count": 140,
   "metadata": {},
   "outputs": [
    {
     "data": {
      "text/html": [
       "<div>\n",
       "<style scoped>\n",
       "    .dataframe tbody tr th:only-of-type {\n",
       "        vertical-align: middle;\n",
       "    }\n",
       "\n",
       "    .dataframe tbody tr th {\n",
       "        vertical-align: top;\n",
       "    }\n",
       "\n",
       "    .dataframe thead th {\n",
       "        text-align: right;\n",
       "    }\n",
       "</style>\n",
       "<table border=\"1\" class=\"dataframe\">\n",
       "  <thead>\n",
       "    <tr style=\"text-align: right;\">\n",
       "      <th></th>\n",
       "      <th>201512</th>\n",
       "      <th>201603</th>\n",
       "      <th>201606</th>\n",
       "      <th>201609</th>\n",
       "      <th>201612</th>\n",
       "      <th>201703</th>\n",
       "      <th>201706</th>\n",
       "      <th>201709</th>\n",
       "      <th>201712</th>\n",
       "      <th>201803</th>\n",
       "      <th>201806</th>\n",
       "    </tr>\n",
       "  </thead>\n",
       "  <tbody>\n",
       "    <tr>\n",
       "      <th>0</th>\n",
       "      <td>772</td>\n",
       "      <td>913</td>\n",
       "      <td>895</td>\n",
       "      <td>470</td>\n",
       "      <td>682</td>\n",
       "      <td>704</td>\n",
       "      <td>745</td>\n",
       "      <td>658</td>\n",
       "      <td>698</td>\n",
       "      <td>764</td>\n",
       "      <td>774</td>\n",
       "    </tr>\n",
       "  </tbody>\n",
       "</table>\n",
       "</div>"
      ],
      "text/plain": [
       "   201512  201603  201606  201609  201612  201703  201706  201709  201712  \\\n",
       "0     772     913     895     470     682     704     745     658     698   \n",
       "\n",
       "   201803  201806  \n",
       "0     764     774  "
      ]
     },
     "execution_count": 140,
     "metadata": {},
     "output_type": "execute_result"
    }
   ],
   "source": [
    "df_yeonnam"
   ]
  },
  {
   "cell_type": "code",
   "execution_count": 142,
   "metadata": {},
   "outputs": [
    {
     "data": {
      "text/html": [
       "<div>\n",
       "<style scoped>\n",
       "    .dataframe tbody tr th:only-of-type {\n",
       "        vertical-align: middle;\n",
       "    }\n",
       "\n",
       "    .dataframe tbody tr th {\n",
       "        vertical-align: top;\n",
       "    }\n",
       "\n",
       "    .dataframe thead th {\n",
       "        text-align: right;\n",
       "    }\n",
       "</style>\n",
       "<table border=\"1\" class=\"dataframe\">\n",
       "  <thead>\n",
       "    <tr style=\"text-align: right;\">\n",
       "      <th></th>\n",
       "      <th>201512</th>\n",
       "      <th>201603</th>\n",
       "      <th>201606</th>\n",
       "      <th>201609</th>\n",
       "      <th>201612</th>\n",
       "      <th>201703</th>\n",
       "      <th>201706</th>\n",
       "      <th>201709</th>\n",
       "      <th>201712</th>\n",
       "      <th>201803</th>\n",
       "      <th>201806</th>\n",
       "    </tr>\n",
       "  </thead>\n",
       "  <tbody>\n",
       "    <tr>\n",
       "      <th>0</th>\n",
       "      <td>584</td>\n",
       "      <td>728</td>\n",
       "      <td>713</td>\n",
       "      <td>509</td>\n",
       "      <td>612</td>\n",
       "      <td>623</td>\n",
       "      <td>639</td>\n",
       "      <td>523</td>\n",
       "      <td>543</td>\n",
       "      <td>569</td>\n",
       "      <td>576</td>\n",
       "    </tr>\n",
       "  </tbody>\n",
       "</table>\n",
       "</div>"
      ],
      "text/plain": [
       "   201512  201603  201606  201609  201612  201703  201706  201709  201712  \\\n",
       "0     584     728     713     509     612     623     639     523     543   \n",
       "\n",
       "   201803  201806  \n",
       "0     569     576  "
      ]
     },
     "execution_count": 142,
     "metadata": {},
     "output_type": "execute_result"
    }
   ],
   "source": [
    "df_sangsoo = pd.DataFrame({201512 : 584, 201603 : 728, 201606 : 713, 201609 : 509, 201612 : 612, 201703 : 623,\n",
    "                           201706 : 639, 201709 : 523, 201712 : 543, 201803 : 569, 201806 : 576}, index=range(1))\n",
    "df_sangsoo"
   ]
  },
  {
   "cell_type": "code",
   "execution_count": 145,
   "metadata": {},
   "outputs": [],
   "source": [
    "df_sangdo = pd.DataFrame({201512 : 2541, 201603 : 3242, 201606 : 3210, 201609 : 2124, 201612 : 2466, 201703 : 2478,\n",
    "                          201706 : 2516, 201709 : 2358, 201712 : 2197, 201803 : 2229, 201806 : 2248}, index=range(1))"
   ]
  },
  {
   "cell_type": "code",
   "execution_count": 146,
   "metadata": {},
   "outputs": [
    {
     "data": {
      "text/html": [
       "<div>\n",
       "<style scoped>\n",
       "    .dataframe tbody tr th:only-of-type {\n",
       "        vertical-align: middle;\n",
       "    }\n",
       "\n",
       "    .dataframe tbody tr th {\n",
       "        vertical-align: top;\n",
       "    }\n",
       "\n",
       "    .dataframe thead th {\n",
       "        text-align: right;\n",
       "    }\n",
       "</style>\n",
       "<table border=\"1\" class=\"dataframe\">\n",
       "  <thead>\n",
       "    <tr style=\"text-align: right;\">\n",
       "      <th></th>\n",
       "      <th>201512</th>\n",
       "      <th>201603</th>\n",
       "      <th>201606</th>\n",
       "      <th>201609</th>\n",
       "      <th>201612</th>\n",
       "      <th>201703</th>\n",
       "      <th>201706</th>\n",
       "      <th>201709</th>\n",
       "      <th>201712</th>\n",
       "      <th>201803</th>\n",
       "      <th>201806</th>\n",
       "    </tr>\n",
       "  </thead>\n",
       "  <tbody>\n",
       "    <tr>\n",
       "      <th>0</th>\n",
       "      <td>2541</td>\n",
       "      <td>3242</td>\n",
       "      <td>3210</td>\n",
       "      <td>2124</td>\n",
       "      <td>2466</td>\n",
       "      <td>2478</td>\n",
       "      <td>2516</td>\n",
       "      <td>2358</td>\n",
       "      <td>2197</td>\n",
       "      <td>2229</td>\n",
       "      <td>2248</td>\n",
       "    </tr>\n",
       "  </tbody>\n",
       "</table>\n",
       "</div>"
      ],
      "text/plain": [
       "   201512  201603  201606  201609  201612  201703  201706  201709  201712  \\\n",
       "0    2541    3242    3210    2124    2466    2478    2516    2358    2197   \n",
       "\n",
       "   201803  201806  \n",
       "0    2229    2248  "
      ]
     },
     "execution_count": 146,
     "metadata": {},
     "output_type": "execute_result"
    }
   ],
   "source": [
    "df_sangdo"
   ]
  },
  {
   "cell_type": "code",
   "execution_count": null,
   "metadata": {},
   "outputs": [],
   "source": []
  }
 ],
 "metadata": {
  "kernelspec": {
   "display_name": "Python 3",
   "language": "python",
   "name": "python3"
  },
  "language_info": {
   "codemirror_mode": {
    "name": "ipython",
    "version": 3
   },
   "file_extension": ".py",
   "mimetype": "text/x-python",
   "name": "python",
   "nbconvert_exporter": "python",
   "pygments_lexer": "ipython3",
   "version": "3.6.5"
  }
 },
 "nbformat": 4,
 "nbformat_minor": 2
}

{
 "cells": [
  {
   "cell_type": "code",
   "execution_count": 3,
   "metadata": {},
   "outputs": [],
   "source": [
    "import pandas as pd\n",
    "import matplotlib as plt\n",
    "from plotnine import *\n"
   ]
  },
  {
   "cell_type": "code",
   "execution_count": 4,
   "metadata": {},
   "outputs": [
    {
     "name": "stdout",
     "output_type": "stream",
     "text": [
      "Requirement already up-to-date: zeroconf==0.19.1 in c:\\users\\lunar\\anaconda3\\lib\\site-packages (0.19.1)\n",
      "Requirement already satisfied, skipping upgrade: netifaces!=0.10.5 in c:\\users\\lunar\\anaconda3\\lib\\site-packages (from zeroconf==0.19.1) (0.10.7)\n",
      "Requirement already satisfied, skipping upgrade: six in c:\\users\\lunar\\anaconda3\\lib\\site-packages (from zeroconf==0.19.1) (1.11.0)\n",
      "Requirement already satisfied, skipping upgrade: enum-compat in c:\\users\\lunar\\anaconda3\\lib\\site-packages (from zeroconf==0.19.1) (0.0.2)\n"
     ]
    }
   ],
   "source": [
    "!pip install --upgrade zeroconf==0.19.1"
   ]
  },
  {
   "cell_type": "code",
   "execution_count": 5,
   "metadata": {},
   "outputs": [
    {
     "data": {
      "text/plain": [
       "Index(['동이름', '2008', '2009', '2010', '2011', '2012', '2013', '2014', '2015',\n",
       "       '2016', '2017'],\n",
       "      dtype='object')"
      ]
     },
     "execution_count": 5,
     "metadata": {},
     "output_type": "execute_result"
    }
   ],
   "source": [
    "\n",
    "df = pd.read_csv('year_pop.csv', encoding = 'utf-8')\n",
    "df = df.copy()\n",
    "df.head()\n",
    "df = df.drop(columns = 'Unnamed: 0',axis=1)\n",
    "\n",
    "df.columns\n",
    "\n"
   ]
  },
  {
   "cell_type": "code",
   "execution_count": 6,
   "metadata": {},
   "outputs": [],
   "source": [
    "\n",
    "\n",
    "\n",
    "columns = df.columns\n",
    "\n",
    "def str_to_int(x):\n",
    "    try:\n",
    "        return int(x)\n",
    "    except:\n",
    "        return x\n",
    "\n",
    "for column in columns : \n",
    "        df[column] = df[column].apply(lambda x:str_to_int(x))\n",
    "\n",
    "\n"
   ]
  },
  {
   "cell_type": "code",
   "execution_count": 7,
   "metadata": {},
   "outputs": [],
   "source": [
    "df['동이름'] =df['동이름'].astype(str)\n"
   ]
  },
  {
   "cell_type": "code",
   "execution_count": 8,
   "metadata": {},
   "outputs": [
    {
     "data": {
      "text/html": [
       "<div>\n",
       "<style scoped>\n",
       "    .dataframe tbody tr th:only-of-type {\n",
       "        vertical-align: middle;\n",
       "    }\n",
       "\n",
       "    .dataframe tbody tr th {\n",
       "        vertical-align: top;\n",
       "    }\n",
       "\n",
       "    .dataframe thead th {\n",
       "        text-align: right;\n",
       "    }\n",
       "</style>\n",
       "<table border=\"1\" class=\"dataframe\">\n",
       "  <thead>\n",
       "    <tr style=\"text-align: right;\">\n",
       "      <th></th>\n",
       "      <th>동이름</th>\n",
       "      <th>2008</th>\n",
       "      <th>2009</th>\n",
       "      <th>2010</th>\n",
       "      <th>2011</th>\n",
       "      <th>2012</th>\n",
       "      <th>2013</th>\n",
       "      <th>2014</th>\n",
       "      <th>2015</th>\n",
       "      <th>2016</th>\n",
       "      <th>2017</th>\n",
       "    </tr>\n",
       "  </thead>\n",
       "  <tbody>\n",
       "    <tr>\n",
       "      <th>0</th>\n",
       "      <td>합계</td>\n",
       "      <td>10,456,034</td>\n",
       "      <td>10,464,051</td>\n",
       "      <td>10,575,447</td>\n",
       "      <td>10,528,774</td>\n",
       "      <td>10,442,426</td>\n",
       "      <td>10,388,055</td>\n",
       "      <td>10,369,593</td>\n",
       "      <td>10,297,138</td>\n",
       "      <td>10,204,057</td>\n",
       "      <td>10,124,579</td>\n",
       "    </tr>\n",
       "    <tr>\n",
       "      <th>1</th>\n",
       "      <td>사직동</td>\n",
       "      <td>10,451</td>\n",
       "      <td>10,464</td>\n",
       "      <td>10,668</td>\n",
       "      <td>10,602</td>\n",
       "      <td>10,477</td>\n",
       "      <td>10,327</td>\n",
       "      <td>10,132</td>\n",
       "      <td>10,033</td>\n",
       "      <td>10,013</td>\n",
       "      <td>9,717</td>\n",
       "    </tr>\n",
       "    <tr>\n",
       "      <th>2</th>\n",
       "      <td>삼청동</td>\n",
       "      <td>3,801</td>\n",
       "      <td>3,717</td>\n",
       "      <td>3,706</td>\n",
       "      <td>3,590</td>\n",
       "      <td>3,485</td>\n",
       "      <td>3,367</td>\n",
       "      <td>3,268</td>\n",
       "      <td>3,174</td>\n",
       "      <td>3,118</td>\n",
       "      <td>3,097</td>\n",
       "    </tr>\n",
       "    <tr>\n",
       "      <th>3</th>\n",
       "      <td>부암동</td>\n",
       "      <td>11,933</td>\n",
       "      <td>11,602</td>\n",
       "      <td>11,648</td>\n",
       "      <td>11,596</td>\n",
       "      <td>11,478</td>\n",
       "      <td>11,469</td>\n",
       "      <td>11,356</td>\n",
       "      <td>11,217</td>\n",
       "      <td>11,044</td>\n",
       "      <td>10,726</td>\n",
       "    </tr>\n",
       "    <tr>\n",
       "      <th>4</th>\n",
       "      <td>평창동</td>\n",
       "      <td>19,757</td>\n",
       "      <td>19,780</td>\n",
       "      <td>19,921</td>\n",
       "      <td>19,996</td>\n",
       "      <td>19,816</td>\n",
       "      <td>19,779</td>\n",
       "      <td>19,595</td>\n",
       "      <td>19,414</td>\n",
       "      <td>19,457</td>\n",
       "      <td>19,163</td>\n",
       "    </tr>\n",
       "  </tbody>\n",
       "</table>\n",
       "</div>"
      ],
      "text/plain": [
       "   동이름        2008        2009        2010        2011        2012  \\\n",
       "0   합계  10,456,034  10,464,051  10,575,447  10,528,774  10,442,426   \n",
       "1  사직동      10,451      10,464      10,668      10,602      10,477   \n",
       "2  삼청동       3,801       3,717       3,706       3,590       3,485   \n",
       "3  부암동      11,933      11,602      11,648      11,596      11,478   \n",
       "4  평창동      19,757      19,780      19,921      19,996      19,816   \n",
       "\n",
       "         2013        2014        2015        2016        2017  \n",
       "0  10,388,055  10,369,593  10,297,138  10,204,057  10,124,579  \n",
       "1      10,327      10,132      10,033      10,013       9,717  \n",
       "2       3,367       3,268       3,174       3,118       3,097  \n",
       "3      11,469      11,356      11,217      11,044      10,726  \n",
       "4      19,779      19,595      19,414      19,457      19,163  "
      ]
     },
     "execution_count": 8,
     "metadata": {},
     "output_type": "execute_result"
    }
   ],
   "source": [
    "df.head()"
   ]
  },
  {
   "cell_type": "code",
   "execution_count": 9,
   "metadata": {},
   "outputs": [
    {
     "name": "stdout",
     "output_type": "stream",
     "text": [
      "<class 'pandas.core.frame.DataFrame'>\n",
      "Int64Index: 1053 entries, 2 to 1391\n",
      "Data columns (total 11 columns):\n",
      "동이름     1053 non-null object\n",
      "2008    1053 non-null object\n",
      "2009    1053 non-null object\n",
      "2010    1053 non-null object\n",
      "2011    1053 non-null object\n",
      "2012    1053 non-null object\n",
      "2013    1053 non-null object\n",
      "2014    1053 non-null object\n",
      "2015    1053 non-null object\n",
      "2016    1053 non-null object\n",
      "2017    1053 non-null object\n",
      "dtypes: object(11)\n",
      "memory usage: 98.7+ KB\n"
     ]
    }
   ],
   "source": [
    "sample = df[df['동이름'].str.contains('연남|익선|성수|봉천|망원|신사|삼청|명동|상도|목동|신정|상계', regex=True)]\n",
    "sample.info()"
   ]
  },
  {
   "cell_type": "markdown",
   "metadata": {},
   "source": [
    "## 선그래프그리기 "
   ]
  },
  {
   "cell_type": "code",
   "execution_count": 10,
   "metadata": {},
   "outputs": [
    {
     "data": {
      "text/html": [
       "<div>\n",
       "<style scoped>\n",
       "    .dataframe tbody tr th:only-of-type {\n",
       "        vertical-align: middle;\n",
       "    }\n",
       "\n",
       "    .dataframe tbody tr th {\n",
       "        vertical-align: top;\n",
       "    }\n",
       "\n",
       "    .dataframe thead th {\n",
       "        text-align: right;\n",
       "    }\n",
       "</style>\n",
       "<table border=\"1\" class=\"dataframe\">\n",
       "  <thead>\n",
       "    <tr style=\"text-align: right;\">\n",
       "      <th></th>\n",
       "      <th>동이름</th>\n",
       "      <th>variable</th>\n",
       "      <th>value</th>\n",
       "    </tr>\n",
       "  </thead>\n",
       "  <tbody>\n",
       "    <tr>\n",
       "      <th>0</th>\n",
       "      <td>합계</td>\n",
       "      <td>2008</td>\n",
       "      <td>10,456,034</td>\n",
       "    </tr>\n",
       "    <tr>\n",
       "      <th>1</th>\n",
       "      <td>신정1동</td>\n",
       "      <td>2008</td>\n",
       "      <td>25,627</td>\n",
       "    </tr>\n",
       "    <tr>\n",
       "      <th>2</th>\n",
       "      <td>신정2동</td>\n",
       "      <td>2008</td>\n",
       "      <td>23,446</td>\n",
       "    </tr>\n",
       "    <tr>\n",
       "      <th>3</th>\n",
       "      <td>상도1동</td>\n",
       "      <td>2008</td>\n",
       "      <td>40,003</td>\n",
       "    </tr>\n",
       "    <tr>\n",
       "      <th>4</th>\n",
       "      <td>상도2동</td>\n",
       "      <td>2008</td>\n",
       "      <td>25,910</td>\n",
       "    </tr>\n",
       "  </tbody>\n",
       "</table>\n",
       "</div>"
      ],
      "text/plain": [
       "    동이름 variable       value\n",
       "0    합계     2008  10,456,034\n",
       "1  신정1동     2008      25,627\n",
       "2  신정2동     2008      23,446\n",
       "3  상도1동     2008      40,003\n",
       "4  상도2동     2008      25,910"
      ]
     },
     "execution_count": 10,
     "metadata": {},
     "output_type": "execute_result"
    }
   ],
   "source": [
    "sample2 = df[df['동이름'].str.contains('합계|신정1동|상도1동|상도2동|신정2동',regex = True)]\n",
    "\n",
    "sample2 = pd.melt(sample2, id_vars=['동이름'],value_vars=['2008','2009','2010','2011','2012','2013','2014','2015','2016','2017'])\n",
    "sample2.head()"
   ]
  },
  {
   "cell_type": "code",
   "execution_count": 11,
   "metadata": {},
   "outputs": [
    {
     "name": "stderr",
     "output_type": "stream",
     "text": [
      "C:\\Users\\lunar\\Anaconda3\\lib\\site-packages\\plotnine\\utils.py:281: FutureWarning: Method .as_matrix will be removed in a future version. Use .values instead.\n",
      "  ndistinct = ids.apply(len_unique, axis=0).as_matrix()\n",
      "C:\\Users\\lunar\\Anaconda3\\lib\\site-packages\\pandas\\core\\generic.py:4384: FutureWarning: Attribute 'is_copy' is deprecated and will be removed in a future version.\n",
      "  object.__getattribute__(self, name)\n",
      "C:\\Users\\lunar\\Anaconda3\\lib\\site-packages\\pandas\\core\\generic.py:4385: FutureWarning: Attribute 'is_copy' is deprecated and will be removed in a future version.\n",
      "  return object.__setattr__(self, name, value)\n"
     ]
    },
    {
     "data": {
      "image/png": "[encoded data removed]",
      "text/plain": [
       "<Figure size 640x480 with 1 Axes>"
      ]
     },
     "metadata": {},
     "output_type": "display_data"
    },
    {
     "data": {
      "text/plain": [
       "<ggplot: (-9223371995345955503)>"
      ]
     },
     "execution_count": 11,
     "metadata": {},
     "output_type": "execute_result"
    }
   ],
   "source": [
    "(ggplot(sample2, aes(x='variable', y='value',group='동이름' ,fill='동이름'))\n",
    " + geom_line()\n",
    " + geom_point()\n",
    " + theme(text=element_text(family='NanumBarunGothic'))\n",
    ")\n"
   ]
  },
  {
   "cell_type": "markdown",
   "metadata": {},
   "source": [
    "## 증감률 그래프그리기"
   ]
  },
  {
   "cell_type": "code",
   "execution_count": 12,
   "metadata": {},
   "outputs": [
    {
     "data": {
      "text/html": [
       "<div>\n",
       "<style scoped>\n",
       "    .dataframe tbody tr th:only-of-type {\n",
       "        vertical-align: middle;\n",
       "    }\n",
       "\n",
       "    .dataframe tbody tr th {\n",
       "        vertical-align: top;\n",
       "    }\n",
       "\n",
       "    .dataframe thead th {\n",
       "        text-align: right;\n",
       "    }\n",
       "</style>\n",
       "<table border=\"1\" class=\"dataframe\">\n",
       "  <thead>\n",
       "    <tr style=\"text-align: right;\">\n",
       "      <th></th>\n",
       "      <th>2008</th>\n",
       "      <th>2009</th>\n",
       "      <th>2010</th>\n",
       "      <th>2011</th>\n",
       "      <th>2012</th>\n",
       "      <th>2013</th>\n",
       "      <th>2014</th>\n",
       "      <th>2015</th>\n",
       "      <th>2016</th>\n",
       "    </tr>\n",
       "  </thead>\n",
       "  <tbody>\n",
       "    <tr>\n",
       "      <th>0</th>\n",
       "      <td>10,456,034</td>\n",
       "      <td>10,464,051</td>\n",
       "      <td>10,575,447</td>\n",
       "      <td>10,528,774</td>\n",
       "      <td>10,442,426</td>\n",
       "      <td>10,388,055</td>\n",
       "      <td>10,369,593</td>\n",
       "      <td>10,297,138</td>\n",
       "      <td>10,204,057</td>\n",
       "    </tr>\n",
       "    <tr>\n",
       "      <th>1</th>\n",
       "      <td>10,451</td>\n",
       "      <td>10,464</td>\n",
       "      <td>10,668</td>\n",
       "      <td>10,602</td>\n",
       "      <td>10,477</td>\n",
       "      <td>10,327</td>\n",
       "      <td>10,132</td>\n",
       "      <td>10,033</td>\n",
       "      <td>10,013</td>\n",
       "    </tr>\n",
       "    <tr>\n",
       "      <th>2</th>\n",
       "      <td>3,801</td>\n",
       "      <td>3,717</td>\n",
       "      <td>3,706</td>\n",
       "      <td>3,590</td>\n",
       "      <td>3,485</td>\n",
       "      <td>3,367</td>\n",
       "      <td>3,268</td>\n",
       "      <td>3,174</td>\n",
       "      <td>3,118</td>\n",
       "    </tr>\n",
       "    <tr>\n",
       "      <th>3</th>\n",
       "      <td>11,933</td>\n",
       "      <td>11,602</td>\n",
       "      <td>11,648</td>\n",
       "      <td>11,596</td>\n",
       "      <td>11,478</td>\n",
       "      <td>11,469</td>\n",
       "      <td>11,356</td>\n",
       "      <td>11,217</td>\n",
       "      <td>11,044</td>\n",
       "    </tr>\n",
       "    <tr>\n",
       "      <th>4</th>\n",
       "      <td>19,757</td>\n",
       "      <td>19,780</td>\n",
       "      <td>19,921</td>\n",
       "      <td>19,996</td>\n",
       "      <td>19,816</td>\n",
       "      <td>19,779</td>\n",
       "      <td>19,595</td>\n",
       "      <td>19,414</td>\n",
       "      <td>19,457</td>\n",
       "    </tr>\n",
       "  </tbody>\n",
       "</table>\n",
       "</div>"
      ],
      "text/plain": [
       "         2008        2009        2010        2011        2012        2013  \\\n",
       "0  10,456,034  10,464,051  10,575,447  10,528,774  10,442,426  10,388,055   \n",
       "1      10,451      10,464      10,668      10,602      10,477      10,327   \n",
       "2       3,801       3,717       3,706       3,590       3,485       3,367   \n",
       "3      11,933      11,602      11,648      11,596      11,478      11,469   \n",
       "4      19,757      19,780      19,921      19,996      19,816      19,779   \n",
       "\n",
       "         2014        2015        2016  \n",
       "0  10,369,593  10,297,138  10,204,057  \n",
       "1      10,132      10,033      10,013  \n",
       "2       3,268       3,174       3,118  \n",
       "3      11,356      11,217      11,044  \n",
       "4      19,595      19,414      19,457  "
      ]
     },
     "execution_count": 12,
     "metadata": {},
     "output_type": "execute_result"
    }
   ],
   "source": [
    "before_seoul = df.drop('동이름', axis = 1)\n",
    "before_seoul.drop('2017', axis =1, inplace=True)\n",
    "before_seoul.head()"
   ]
  },
  {
   "cell_type": "code",
   "execution_count": 13,
   "metadata": {},
   "outputs": [
    {
     "data": {
      "text/html": [
       "<div>\n",
       "<style scoped>\n",
       "    .dataframe tbody tr th:only-of-type {\n",
       "        vertical-align: middle;\n",
       "    }\n",
       "\n",
       "    .dataframe tbody tr th {\n",
       "        vertical-align: top;\n",
       "    }\n",
       "\n",
       "    .dataframe thead th {\n",
       "        text-align: right;\n",
       "    }\n",
       "</style>\n",
       "<table border=\"1\" class=\"dataframe\">\n",
       "  <thead>\n",
       "    <tr style=\"text-align: right;\">\n",
       "      <th></th>\n",
       "      <th>2009</th>\n",
       "      <th>2010</th>\n",
       "      <th>2011</th>\n",
       "      <th>2012</th>\n",
       "      <th>2013</th>\n",
       "      <th>2014</th>\n",
       "      <th>2015</th>\n",
       "      <th>2016</th>\n",
       "      <th>2017</th>\n",
       "    </tr>\n",
       "  </thead>\n",
       "  <tbody>\n",
       "    <tr>\n",
       "      <th>0</th>\n",
       "      <td>10,464,051</td>\n",
       "      <td>10,575,447</td>\n",
       "      <td>10,528,774</td>\n",
       "      <td>10,442,426</td>\n",
       "      <td>10,388,055</td>\n",
       "      <td>10,369,593</td>\n",
       "      <td>10,297,138</td>\n",
       "      <td>10,204,057</td>\n",
       "      <td>10,124,579</td>\n",
       "    </tr>\n",
       "    <tr>\n",
       "      <th>1</th>\n",
       "      <td>10,464</td>\n",
       "      <td>10,668</td>\n",
       "      <td>10,602</td>\n",
       "      <td>10,477</td>\n",
       "      <td>10,327</td>\n",
       "      <td>10,132</td>\n",
       "      <td>10,033</td>\n",
       "      <td>10,013</td>\n",
       "      <td>9,717</td>\n",
       "    </tr>\n",
       "    <tr>\n",
       "      <th>2</th>\n",
       "      <td>3,717</td>\n",
       "      <td>3,706</td>\n",
       "      <td>3,590</td>\n",
       "      <td>3,485</td>\n",
       "      <td>3,367</td>\n",
       "      <td>3,268</td>\n",
       "      <td>3,174</td>\n",
       "      <td>3,118</td>\n",
       "      <td>3,097</td>\n",
       "    </tr>\n",
       "    <tr>\n",
       "      <th>3</th>\n",
       "      <td>11,602</td>\n",
       "      <td>11,648</td>\n",
       "      <td>11,596</td>\n",
       "      <td>11,478</td>\n",
       "      <td>11,469</td>\n",
       "      <td>11,356</td>\n",
       "      <td>11,217</td>\n",
       "      <td>11,044</td>\n",
       "      <td>10,726</td>\n",
       "    </tr>\n",
       "    <tr>\n",
       "      <th>4</th>\n",
       "      <td>19,780</td>\n",
       "      <td>19,921</td>\n",
       "      <td>19,996</td>\n",
       "      <td>19,816</td>\n",
       "      <td>19,779</td>\n",
       "      <td>19,595</td>\n",
       "      <td>19,414</td>\n",
       "      <td>19,457</td>\n",
       "      <td>19,163</td>\n",
       "    </tr>\n",
       "  </tbody>\n",
       "</table>\n",
       "</div>"
      ],
      "text/plain": [
       "         2009        2010        2011        2012        2013        2014  \\\n",
       "0  10,464,051  10,575,447  10,528,774  10,442,426  10,388,055  10,369,593   \n",
       "1      10,464      10,668      10,602      10,477      10,327      10,132   \n",
       "2       3,717       3,706       3,590       3,485       3,367       3,268   \n",
       "3      11,602      11,648      11,596      11,478      11,469      11,356   \n",
       "4      19,780      19,921      19,996      19,816      19,779      19,595   \n",
       "\n",
       "         2015        2016        2017  \n",
       "0  10,297,138  10,204,057  10,124,579  \n",
       "1      10,033      10,013       9,717  \n",
       "2       3,174       3,118       3,097  \n",
       "3      11,217      11,044      10,726  \n",
       "4      19,414      19,457      19,163  "
      ]
     },
     "execution_count": 13,
     "metadata": {},
     "output_type": "execute_result"
    }
   ],
   "source": [
    "after_seoul = df.drop('동이름', axis=1)\n",
    "after_seoul.drop('2008', axis=1, inplace=True)\n",
    "after_seoul.head()"
   ]
  },
  {
   "cell_type": "code",
   "execution_count": 14,
   "metadata": {},
   "outputs": [],
   "source": [
    "import numpy as np"
   ]
  },
  {
   "cell_type": "code",
   "execution_count": 15,
   "metadata": {},
   "outputs": [
    {
     "ename": "TypeError",
     "evalue": "unsupported operand type(s) for -: 'str' and 'str'",
     "output_type": "error",
     "traceback": [
      "\u001b[1;31m---------------------------------------------------------------------------\u001b[0m",
      "\u001b[1;31mTypeError\u001b[0m                                 Traceback (most recent call last)",
      "\u001b[1;32m<ipython-input-15-200872fc6c3e>\u001b[0m in \u001b[0;36m<module>\u001b[1;34m()\u001b[0m\n\u001b[0;32m      1\u001b[0m \u001b[1;33m\u001b[0m\u001b[0m\n\u001b[1;32m----> 2\u001b[1;33m \u001b[0mseoul_pops_rate\u001b[0m \u001b[1;33m=\u001b[0m \u001b[0mpd\u001b[0m\u001b[1;33m.\u001b[0m\u001b[0mDataFrame\u001b[0m\u001b[1;33m(\u001b[0m\u001b[0mnp\u001b[0m\u001b[1;33m.\u001b[0m\u001b[0mround\u001b[0m\u001b[1;33m(\u001b[0m\u001b[1;33m(\u001b[0m\u001b[0mafter_seoul\u001b[0m\u001b[1;33m.\u001b[0m\u001b[0mvalues\u001b[0m \u001b[1;33m-\u001b[0m \u001b[0mbefore_seoul\u001b[0m\u001b[1;33m.\u001b[0m\u001b[0mvalues\u001b[0m\u001b[1;33m)\u001b[0m \u001b[1;33m*\u001b[0m \u001b[1;36m100\u001b[0m \u001b[1;33m/\u001b[0m \u001b[0mbefore_seoul\u001b[0m\u001b[1;33m.\u001b[0m\u001b[0mvalues\u001b[0m\u001b[1;33m,\u001b[0m \u001b[1;36m3\u001b[0m\u001b[1;33m)\u001b[0m\u001b[1;33m)\u001b[0m\u001b[1;33m\u001b[0m\u001b[0m\n\u001b[0m\u001b[0;32m      3\u001b[0m \u001b[0mcol_list\u001b[0m \u001b[1;33m=\u001b[0m \u001b[1;33m[\u001b[0m\u001b[0mstr\u001b[0m\u001b[1;33m(\u001b[0m\u001b[0mnum\u001b[0m\u001b[1;33m)\u001b[0m\u001b[1;33m+\u001b[0m\u001b[1;34m'~'\u001b[0m\u001b[1;33m+\u001b[0m\u001b[0mstr\u001b[0m\u001b[1;33m(\u001b[0m\u001b[0mnum\u001b[0m\u001b[1;33m+\u001b[0m\u001b[1;36m1\u001b[0m\u001b[1;33m)\u001b[0m \u001b[1;32mfor\u001b[0m \u001b[0mnum\u001b[0m \u001b[1;32min\u001b[0m \u001b[0mrange\u001b[0m\u001b[1;33m(\u001b[0m\u001b[1;36m2008\u001b[0m\u001b[1;33m,\u001b[0m \u001b[1;36m2017\u001b[0m\u001b[1;33m)\u001b[0m\u001b[1;33m]\u001b[0m\u001b[1;33m\u001b[0m\u001b[0m\n\u001b[0;32m      4\u001b[0m \u001b[0mseoul_pops_rate\u001b[0m\u001b[1;33m.\u001b[0m\u001b[0mcolumns\u001b[0m \u001b[1;33m=\u001b[0m \u001b[0mcol_list\u001b[0m\u001b[1;33m\u001b[0m\u001b[0m\n\u001b[0;32m      5\u001b[0m \u001b[0mfinal_rate\u001b[0m \u001b[1;33m=\u001b[0m \u001b[0mpd\u001b[0m\u001b[1;33m.\u001b[0m\u001b[0mDataFrame\u001b[0m\u001b[1;33m(\u001b[0m\u001b[1;33m)\u001b[0m\u001b[1;33m\u001b[0m\u001b[0m\n",
      "\u001b[1;31mTypeError\u001b[0m: unsupported operand type(s) for -: 'str' and 'str'"
     ]
    }
   ],
   "source": [
    "\n",
    "seoul_pops_rate = pd.DataFrame(np.round((after_seoul.values - before_seoul.values) * 100 / before_seoul.values, 3))\n",
    "col_list = [str(num)+'~'+str(num+1) for num in range(2008, 2017)]\n",
    "seoul_pops_rate.columns = col_list\n",
    "final_rate = pd.DataFrame()\n",
    "final_rate['동이름'] = df['동이름'].copy(deep=True)\n",
    "final_rate = final_rate.join(seoul_pops_rate)\n",
    "final_rate.head()"
   ]
  },
  {
   "cell_type": "code",
   "execution_count": 295,
   "metadata": {},
   "outputs": [],
   "source": [
    "final_rate.to_csv('a_percentage_change_pops.csv', index=False)"
   ]
  },
  {
   "cell_type": "code",
   "execution_count": 1,
   "metadata": {},
   "outputs": [
    {
     "ename": "NameError",
     "evalue": "name 'final_rate' is not defined",
     "output_type": "error",
     "traceback": [
      "\u001b[1;31m---------------------------------------------------------------------------\u001b[0m",
      "\u001b[1;31mNameError\u001b[0m                                 Traceback (most recent call last)",
      "\u001b[1;32m<ipython-input-1-acbc1a0ad04c>\u001b[0m in \u001b[0;36m<module>\u001b[1;34m()\u001b[0m\n\u001b[1;32m----> 1\u001b[1;33m \u001b[0msample_rate\u001b[0m \u001b[1;33m=\u001b[0m \u001b[0mfinal_rate\u001b[0m\u001b[1;33m[\u001b[0m\u001b[0mfinal_rate\u001b[0m\u001b[1;33m[\u001b[0m\u001b[1;34m'동이름'\u001b[0m\u001b[1;33m]\u001b[0m\u001b[1;33m.\u001b[0m\u001b[0mstr\u001b[0m\u001b[1;33m.\u001b[0m\u001b[0mcontains\u001b[0m\u001b[1;33m(\u001b[0m\u001b[1;34m'합계|신정1동|상도1동|상도2동|신정2동'\u001b[0m\u001b[1;33m,\u001b[0m\u001b[0mregex\u001b[0m \u001b[1;33m=\u001b[0m \u001b[1;32mTrue\u001b[0m\u001b[1;33m)\u001b[0m\u001b[1;33m]\u001b[0m\u001b[1;33m\u001b[0m\u001b[0m\n\u001b[0m",
      "\u001b[1;31mNameError\u001b[0m: name 'final_rate' is not defined"
     ]
    }
   ],
   "source": [
    "sample_rate = final_rate[final_rate['동이름'].str.contains('합계|신정1동|상도1동|상도2동|신정2동',regex = True)]"
   ]
  },
  {
   "cell_type": "code",
   "execution_count": 2,
   "metadata": {},
   "outputs": [
    {
     "ename": "NameError",
     "evalue": "name 'sample_rate' is not defined",
     "output_type": "error",
     "traceback": [
      "\u001b[1;31m---------------------------------------------------------------------------\u001b[0m",
      "\u001b[1;31mNameError\u001b[0m                                 Traceback (most recent call last)",
      "\u001b[1;32m<ipython-input-2-22dda5c45e51>\u001b[0m in \u001b[0;36m<module>\u001b[1;34m()\u001b[0m\n\u001b[1;32m----> 1\u001b[1;33m \u001b[0msample_rate\u001b[0m\u001b[1;33m.\u001b[0m\u001b[0mcolumns\u001b[0m\u001b[1;33m\u001b[0m\u001b[0m\n\u001b[0m",
      "\u001b[1;31mNameError\u001b[0m: name 'sample_rate' is not defined"
     ]
    }
   ],
   "source": [
    "sample_rate.columns\n"
   ]
  },
  {
   "cell_type": "code",
   "execution_count": 304,
   "metadata": {},
   "outputs": [
    {
     "ename": "Exception",
     "evalue": "Data must be 1-dimensional",
     "output_type": "error",
     "traceback": [
      "\u001b[1;31m---------------------------------------------------------------------------\u001b[0m",
      "\u001b[1;31mException\u001b[0m                                 Traceback (most recent call last)",
      "\u001b[1;32m<ipython-input-304-9cb0fdbf2360>\u001b[0m in \u001b[0;36m<module>\u001b[1;34m()\u001b[0m\n\u001b[0;32m      1\u001b[0m sample_rate = pd.melt(sample_rate, id_vars=['동이름'], value_vars=['동이름', '2008~2009', '2009~2010', '2010~2011', '2011~2012', '2012~2013',\n\u001b[1;32m----> 2\u001b[1;33m        '2013~2014', '2014~2015', '2015~2016', '2016~2017'])\n\u001b[0m",
      "\u001b[1;32m~\\Anaconda3\\lib\\site-packages\\pandas\\core\\reshape\\melt.py\u001b[0m in \u001b[0;36mmelt\u001b[1;34m(frame, id_vars, value_vars, var_name, value_name, col_level)\u001b[0m\n\u001b[0;32m     88\u001b[0m                                    ._get_level_values(i)).repeat(N)\n\u001b[0;32m     89\u001b[0m \u001b[1;33m\u001b[0m\u001b[0m\n\u001b[1;32m---> 90\u001b[1;33m     \u001b[1;32mreturn\u001b[0m \u001b[0mframe\u001b[0m\u001b[1;33m.\u001b[0m\u001b[0m_constructor\u001b[0m\u001b[1;33m(\u001b[0m\u001b[0mmdata\u001b[0m\u001b[1;33m,\u001b[0m \u001b[0mcolumns\u001b[0m\u001b[1;33m=\u001b[0m\u001b[0mmcolumns\u001b[0m\u001b[1;33m)\u001b[0m\u001b[1;33m\u001b[0m\u001b[0m\n\u001b[0m\u001b[0;32m     91\u001b[0m \u001b[1;33m\u001b[0m\u001b[0m\n\u001b[0;32m     92\u001b[0m \u001b[1;33m\u001b[0m\u001b[0m\n",
      "\u001b[1;32m~\\Anaconda3\\lib\\site-packages\\pandas\\core\\frame.py\u001b[0m in \u001b[0;36m__init__\u001b[1;34m(self, data, index, columns, dtype, copy)\u001b[0m\n\u001b[0;32m    346\u001b[0m                                  dtype=dtype, copy=copy)\n\u001b[0;32m    347\u001b[0m         \u001b[1;32melif\u001b[0m \u001b[0misinstance\u001b[0m\u001b[1;33m(\u001b[0m\u001b[0mdata\u001b[0m\u001b[1;33m,\u001b[0m \u001b[0mdict\u001b[0m\u001b[1;33m)\u001b[0m\u001b[1;33m:\u001b[0m\u001b[1;33m\u001b[0m\u001b[0m\n\u001b[1;32m--> 348\u001b[1;33m             \u001b[0mmgr\u001b[0m \u001b[1;33m=\u001b[0m \u001b[0mself\u001b[0m\u001b[1;33m.\u001b[0m\u001b[0m_init_dict\u001b[0m\u001b[1;33m(\u001b[0m\u001b[0mdata\u001b[0m\u001b[1;33m,\u001b[0m \u001b[0mindex\u001b[0m\u001b[1;33m,\u001b[0m \u001b[0mcolumns\u001b[0m\u001b[1;33m,\u001b[0m \u001b[0mdtype\u001b[0m\u001b[1;33m=\u001b[0m\u001b[0mdtype\u001b[0m\u001b[1;33m)\u001b[0m\u001b[1;33m\u001b[0m\u001b[0m\n\u001b[0m\u001b[0;32m    349\u001b[0m         \u001b[1;32melif\u001b[0m \u001b[0misinstance\u001b[0m\u001b[1;33m(\u001b[0m\u001b[0mdata\u001b[0m\u001b[1;33m,\u001b[0m \u001b[0mma\u001b[0m\u001b[1;33m.\u001b[0m\u001b[0mMaskedArray\u001b[0m\u001b[1;33m)\u001b[0m\u001b[1;33m:\u001b[0m\u001b[1;33m\u001b[0m\u001b[0m\n\u001b[0;32m    350\u001b[0m             \u001b[1;32mimport\u001b[0m \u001b[0mnumpy\u001b[0m\u001b[1;33m.\u001b[0m\u001b[0mma\u001b[0m\u001b[1;33m.\u001b[0m\u001b[0mmrecords\u001b[0m \u001b[1;32mas\u001b[0m \u001b[0mmrecords\u001b[0m\u001b[1;33m\u001b[0m\u001b[0m\n",
      "\u001b[1;32m~\\Anaconda3\\lib\\site-packages\\pandas\\core\\frame.py\u001b[0m in \u001b[0;36m_init_dict\u001b[1;34m(self, data, index, columns, dtype)\u001b[0m\n\u001b[0;32m    457\u001b[0m             \u001b[0marrays\u001b[0m \u001b[1;33m=\u001b[0m \u001b[1;33m[\u001b[0m\u001b[0mdata\u001b[0m\u001b[1;33m[\u001b[0m\u001b[0mk\u001b[0m\u001b[1;33m]\u001b[0m \u001b[1;32mfor\u001b[0m \u001b[0mk\u001b[0m \u001b[1;32min\u001b[0m \u001b[0mkeys\u001b[0m\u001b[1;33m]\u001b[0m\u001b[1;33m\u001b[0m\u001b[0m\n\u001b[0;32m    458\u001b[0m \u001b[1;33m\u001b[0m\u001b[0m\n\u001b[1;32m--> 459\u001b[1;33m         \u001b[1;32mreturn\u001b[0m \u001b[0m_arrays_to_mgr\u001b[0m\u001b[1;33m(\u001b[0m\u001b[0marrays\u001b[0m\u001b[1;33m,\u001b[0m \u001b[0mdata_names\u001b[0m\u001b[1;33m,\u001b[0m \u001b[0mindex\u001b[0m\u001b[1;33m,\u001b[0m \u001b[0mcolumns\u001b[0m\u001b[1;33m,\u001b[0m \u001b[0mdtype\u001b[0m\u001b[1;33m=\u001b[0m\u001b[0mdtype\u001b[0m\u001b[1;33m)\u001b[0m\u001b[1;33m\u001b[0m\u001b[0m\n\u001b[0m\u001b[0;32m    460\u001b[0m \u001b[1;33m\u001b[0m\u001b[0m\n\u001b[0;32m    461\u001b[0m     \u001b[1;32mdef\u001b[0m \u001b[0m_init_ndarray\u001b[0m\u001b[1;33m(\u001b[0m\u001b[0mself\u001b[0m\u001b[1;33m,\u001b[0m \u001b[0mvalues\u001b[0m\u001b[1;33m,\u001b[0m \u001b[0mindex\u001b[0m\u001b[1;33m,\u001b[0m \u001b[0mcolumns\u001b[0m\u001b[1;33m,\u001b[0m \u001b[0mdtype\u001b[0m\u001b[1;33m=\u001b[0m\u001b[1;32mNone\u001b[0m\u001b[1;33m,\u001b[0m \u001b[0mcopy\u001b[0m\u001b[1;33m=\u001b[0m\u001b[1;32mFalse\u001b[0m\u001b[1;33m)\u001b[0m\u001b[1;33m:\u001b[0m\u001b[1;33m\u001b[0m\u001b[0m\n",
      "\u001b[1;32m~\\Anaconda3\\lib\\site-packages\\pandas\\core\\frame.py\u001b[0m in \u001b[0;36m_arrays_to_mgr\u001b[1;34m(arrays, arr_names, index, columns, dtype)\u001b[0m\n\u001b[0;32m   7316\u001b[0m \u001b[1;33m\u001b[0m\u001b[0m\n\u001b[0;32m   7317\u001b[0m     \u001b[1;31m# don't force copy because getting jammed in an ndarray anyway\u001b[0m\u001b[1;33m\u001b[0m\u001b[1;33m\u001b[0m\u001b[0m\n\u001b[1;32m-> 7318\u001b[1;33m     \u001b[0marrays\u001b[0m \u001b[1;33m=\u001b[0m \u001b[0m_homogenize\u001b[0m\u001b[1;33m(\u001b[0m\u001b[0marrays\u001b[0m\u001b[1;33m,\u001b[0m \u001b[0mindex\u001b[0m\u001b[1;33m,\u001b[0m \u001b[0mdtype\u001b[0m\u001b[1;33m)\u001b[0m\u001b[1;33m\u001b[0m\u001b[0m\n\u001b[0m\u001b[0;32m   7319\u001b[0m \u001b[1;33m\u001b[0m\u001b[0m\n\u001b[0;32m   7320\u001b[0m     \u001b[1;31m# from BlockManager perspective\u001b[0m\u001b[1;33m\u001b[0m\u001b[1;33m\u001b[0m\u001b[0m\n",
      "\u001b[1;32m~\\Anaconda3\\lib\\site-packages\\pandas\\core\\frame.py\u001b[0m in \u001b[0;36m_homogenize\u001b[1;34m(data, index, dtype)\u001b[0m\n\u001b[0;32m   7626\u001b[0m                 \u001b[0mv\u001b[0m \u001b[1;33m=\u001b[0m \u001b[0mlib\u001b[0m\u001b[1;33m.\u001b[0m\u001b[0mfast_multiget\u001b[0m\u001b[1;33m(\u001b[0m\u001b[0mv\u001b[0m\u001b[1;33m,\u001b[0m \u001b[0moindex\u001b[0m\u001b[1;33m.\u001b[0m\u001b[0mvalues\u001b[0m\u001b[1;33m,\u001b[0m \u001b[0mdefault\u001b[0m\u001b[1;33m=\u001b[0m\u001b[0mnp\u001b[0m\u001b[1;33m.\u001b[0m\u001b[0mnan\u001b[0m\u001b[1;33m)\u001b[0m\u001b[1;33m\u001b[0m\u001b[0m\n\u001b[0;32m   7627\u001b[0m             v = _sanitize_array(v, index, dtype=dtype, copy=False,\n\u001b[1;32m-> 7628\u001b[1;33m                                 raise_cast_failure=False)\n\u001b[0m\u001b[0;32m   7629\u001b[0m \u001b[1;33m\u001b[0m\u001b[0m\n\u001b[0;32m   7630\u001b[0m         \u001b[0mhomogenized\u001b[0m\u001b[1;33m.\u001b[0m\u001b[0mappend\u001b[0m\u001b[1;33m(\u001b[0m\u001b[0mv\u001b[0m\u001b[1;33m)\u001b[0m\u001b[1;33m\u001b[0m\u001b[0m\n",
      "\u001b[1;32m~\\Anaconda3\\lib\\site-packages\\pandas\\core\\series.py\u001b[0m in \u001b[0;36m_sanitize_array\u001b[1;34m(data, index, dtype, copy, raise_cast_failure)\u001b[0m\n\u001b[0;32m   4159\u001b[0m     \u001b[1;32melif\u001b[0m \u001b[0msubarr\u001b[0m\u001b[1;33m.\u001b[0m\u001b[0mndim\u001b[0m \u001b[1;33m>\u001b[0m \u001b[1;36m1\u001b[0m\u001b[1;33m:\u001b[0m\u001b[1;33m\u001b[0m\u001b[0m\n\u001b[0;32m   4160\u001b[0m         \u001b[1;32mif\u001b[0m \u001b[0misinstance\u001b[0m\u001b[1;33m(\u001b[0m\u001b[0mdata\u001b[0m\u001b[1;33m,\u001b[0m \u001b[0mnp\u001b[0m\u001b[1;33m.\u001b[0m\u001b[0mndarray\u001b[0m\u001b[1;33m)\u001b[0m\u001b[1;33m:\u001b[0m\u001b[1;33m\u001b[0m\u001b[0m\n\u001b[1;32m-> 4161\u001b[1;33m             \u001b[1;32mraise\u001b[0m \u001b[0mException\u001b[0m\u001b[1;33m(\u001b[0m\u001b[1;34m'Data must be 1-dimensional'\u001b[0m\u001b[1;33m)\u001b[0m\u001b[1;33m\u001b[0m\u001b[0m\n\u001b[0m\u001b[0;32m   4162\u001b[0m         \u001b[1;32melse\u001b[0m\u001b[1;33m:\u001b[0m\u001b[1;33m\u001b[0m\u001b[0m\n\u001b[0;32m   4163\u001b[0m             \u001b[0msubarr\u001b[0m \u001b[1;33m=\u001b[0m \u001b[0mcom\u001b[0m\u001b[1;33m.\u001b[0m\u001b[0m_asarray_tuplesafe\u001b[0m\u001b[1;33m(\u001b[0m\u001b[0mdata\u001b[0m\u001b[1;33m,\u001b[0m \u001b[0mdtype\u001b[0m\u001b[1;33m=\u001b[0m\u001b[0mdtype\u001b[0m\u001b[1;33m)\u001b[0m\u001b[1;33m\u001b[0m\u001b[0m\n",
      "\u001b[1;31mException\u001b[0m: Data must be 1-dimensional"
     ]
    }
   ],
   "source": [
    "sample_rate = pd.melt(sample_rate, id_vars=['동이름'], value_vars=['동이름', '2008~2009', '2009~2010', '2010~2011', '2011~2012', '2012~2013',\n",
    "       '2013~2014', '2014~2015', '2015~2016', '2016~2017'])"
   ]
  },
  {
   "cell_type": "code",
   "execution_count": 298,
   "metadata": {},
   "outputs": [
    {
     "data": {
      "text/html": [
       "<div>\n",
       "<style scoped>\n",
       "    .dataframe tbody tr th:only-of-type {\n",
       "        vertical-align: middle;\n",
       "    }\n",
       "\n",
       "    .dataframe tbody tr th {\n",
       "        vertical-align: top;\n",
       "    }\n",
       "\n",
       "    .dataframe thead th {\n",
       "        text-align: right;\n",
       "    }\n",
       "</style>\n",
       "<table border=\"1\" class=\"dataframe\">\n",
       "  <thead>\n",
       "    <tr style=\"text-align: right;\">\n",
       "      <th></th>\n",
       "      <th>동이름</th>\n",
       "      <th>2008~2009</th>\n",
       "      <th>2009~2010</th>\n",
       "      <th>2010~2011</th>\n",
       "      <th>2011~2012</th>\n",
       "      <th>2012~2013</th>\n",
       "      <th>2013~2014</th>\n",
       "      <th>2014~2015</th>\n",
       "      <th>2015~2016</th>\n",
       "      <th>2016~2017</th>\n",
       "    </tr>\n",
       "  </thead>\n",
       "  <tbody>\n",
       "    <tr>\n",
       "      <th>0</th>\n",
       "      <td>합계</td>\n",
       "      <td>0.077</td>\n",
       "      <td>1.065</td>\n",
       "      <td>-0.441</td>\n",
       "      <td>-0.820</td>\n",
       "      <td>-0.521</td>\n",
       "      <td>-0.178</td>\n",
       "      <td>-0.699</td>\n",
       "      <td>-0.904</td>\n",
       "      <td>-0.779</td>\n",
       "    </tr>\n",
       "    <tr>\n",
       "      <th>245</th>\n",
       "      <td>신정1동</td>\n",
       "      <td>-0.894</td>\n",
       "      <td>0.843</td>\n",
       "      <td>-10.932</td>\n",
       "      <td>-10.122</td>\n",
       "      <td>-3.043</td>\n",
       "      <td>-2.817</td>\n",
       "      <td>-1.760</td>\n",
       "      <td>15.148</td>\n",
       "      <td>0.032</td>\n",
       "    </tr>\n",
       "    <tr>\n",
       "      <th>246</th>\n",
       "      <td>신정2동</td>\n",
       "      <td>-1.216</td>\n",
       "      <td>0.017</td>\n",
       "      <td>-1.166</td>\n",
       "      <td>-1.140</td>\n",
       "      <td>-0.561</td>\n",
       "      <td>-1.911</td>\n",
       "      <td>-0.562</td>\n",
       "      <td>-2.100</td>\n",
       "      <td>-1.075</td>\n",
       "    </tr>\n",
       "    <tr>\n",
       "      <th>316</th>\n",
       "      <td>상도1동</td>\n",
       "      <td>-0.217</td>\n",
       "      <td>1.776</td>\n",
       "      <td>0.199</td>\n",
       "      <td>7.569</td>\n",
       "      <td>8.288</td>\n",
       "      <td>1.647</td>\n",
       "      <td>0.394</td>\n",
       "      <td>-0.293</td>\n",
       "      <td>0.468</td>\n",
       "    </tr>\n",
       "    <tr>\n",
       "      <th>317</th>\n",
       "      <td>상도2동</td>\n",
       "      <td>1.162</td>\n",
       "      <td>2.686</td>\n",
       "      <td>-1.925</td>\n",
       "      <td>-0.625</td>\n",
       "      <td>-0.160</td>\n",
       "      <td>-1.004</td>\n",
       "      <td>-4.038</td>\n",
       "      <td>11.805</td>\n",
       "      <td>-0.963</td>\n",
       "    </tr>\n",
       "  </tbody>\n",
       "</table>\n",
       "</div>"
      ],
      "text/plain": [
       "      동이름  2008~2009  2009~2010  2010~2011  2011~2012  2012~2013  2013~2014  \\\n",
       "0      합계      0.077      1.065     -0.441     -0.820     -0.521     -0.178   \n",
       "245  신정1동     -0.894      0.843    -10.932    -10.122     -3.043     -2.817   \n",
       "246  신정2동     -1.216      0.017     -1.166     -1.140     -0.561     -1.911   \n",
       "316  상도1동     -0.217      1.776      0.199      7.569      8.288      1.647   \n",
       "317  상도2동      1.162      2.686     -1.925     -0.625     -0.160     -1.004   \n",
       "\n",
       "     2014~2015  2015~2016  2016~2017  \n",
       "0       -0.699     -0.904     -0.779  \n",
       "245     -1.760     15.148      0.032  \n",
       "246     -0.562     -2.100     -1.075  \n",
       "316      0.394     -0.293      0.468  \n",
       "317     -4.038     11.805     -0.963  "
      ]
     },
     "execution_count": 298,
     "metadata": {},
     "output_type": "execute_result"
    }
   ],
   "source": [
    "(ggplot(sample_rate, aes(x='variable', y='value',group='동이름' ,fill='동이름'))\n",
    " + geom_line()\n",
    " + geom_point()\n",
    " + theme(text=element_text(family='NanumBarunGothic'))\n",
    ")\n"
   ]
  },
  {
   "cell_type": "code",
   "execution_count": null,
   "metadata": {},
   "outputs": [],
   "source": []
  },
  {
   "cell_type": "code",
   "execution_count": null,
   "metadata": {},
   "outputs": [],
   "source": []
  }
 ],
 "metadata": {
  "kernelspec": {
   "display_name": "Python 3",
   "language": "python",
   "name": "python3"
  },
  "language_info": {
   "codemirror_mode": {
    "name": "ipython",
    "version": 3
   },
   "file_extension": ".py",
   "mimetype": "text/x-python",
   "name": "python",
   "nbconvert_exporter": "python",
   "pygments_lexer": "ipython3",
   "version": "3.6.5"
  }
 },
 "nbformat": 4,
 "nbformat_minor": 2
}

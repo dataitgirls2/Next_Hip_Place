{
 "cells": [
  {
   "cell_type": "markdown",
   "metadata": {},
   "source": [
    "# 가구원형태"
   ]
  },
  {
   "cell_type": "code",
   "execution_count": 2,
   "metadata": {},
   "outputs": [],
   "source": [
    "import pandas as pd\n",
    "import matplotlib as plt\n",
    "from plotnine import *\n"
   ]
  },
  {
   "cell_type": "code",
   "execution_count": 68,
   "metadata": {},
   "outputs": [
    {
     "data": {
      "text/plain": [
       "'C:\\\\Users\\\\lunar\\\\Desktop\\\\whos_next_rookie\\\\code\\\\seoul_populations'"
      ]
     },
     "execution_count": 68,
     "metadata": {},
     "output_type": "execute_result"
    }
   ],
   "source": [
    "%pwd"
   ]
  },
  {
   "cell_type": "code",
   "execution_count": 3,
   "metadata": {},
   "outputs": [],
   "source": [
    "def str_to_float(x):\n",
    "    try:\n",
    "        return float(x.replace(',',''))\n",
    "    except:\n",
    "        return x\n",
    "    "
   ]
  },
  {
   "cell_type": "code",
   "execution_count": 4,
   "metadata": {},
   "outputs": [],
   "source": [
    "df_2010 = pd.read_csv('data/2010_household.csv', encoding='euc-kr').copy()\n",
    "\n",
    "df_2010 = df_2010[df_2010.iloc[:,2] !='소계']\n",
    "\n",
    "df_2010.columns=df_2010.iloc[0,:]\n",
    "\n",
    "columns = ['계','1인가구','2인가구','3인가구','4인가구','5인가구','6인이상가구']\n",
    "for column in columns:\n",
    "    df_2010[column] = df_2010[column].apply(lambda x:str_to_float(x))\n",
    "df_2010 = df_2010.drop(0)"
   ]
  },
  {
   "cell_type": "code",
   "execution_count": 12,
   "metadata": {},
   "outputs": [],
   "source": [
    "aperson_2010 = df_2010.sort_values(by=['1인가구'], ascending=False).head(20)"
   ]
  },
  {
   "cell_type": "code",
   "execution_count": 14,
   "metadata": {},
   "outputs": [],
   "source": [
    "fam_2010 = df_2010.sort_values(by=['4인가구','5인가구'],ascending=False).head(20)"
   ]
  },
  {
   "cell_type": "code",
   "execution_count": 24,
   "metadata": {},
   "outputs": [],
   "source": [
    "df_2015 = pd.read_csv('data/2015_household.csv', encoding='euc-kr').copy()\n",
    "\n",
    "df_2015 = df_2015[df_2015.iloc[:,2] !='소계']\n",
    "\n",
    "df_2015.columns=df_2015.iloc[0,:]\n",
    "\n",
    "columns = ['계','1인가구','2인가구','3인가구','4인가구','5인가구','6인가구','7인이상 가구']\n",
    "for column in columns:\n",
    "    df_2015[column] = df_2015[column].apply(lambda x:str_to_float(x))\n",
    "df_2015 = df_2015.drop(0)"
   ]
  },
  {
   "cell_type": "code",
   "execution_count": 27,
   "metadata": {},
   "outputs": [
    {
     "data": {
      "text/html": [
       "<div>\n",
       "<style scoped>\n",
       "    .dataframe tbody tr th:only-of-type {\n",
       "        vertical-align: middle;\n",
       "    }\n",
       "\n",
       "    .dataframe tbody tr th {\n",
       "        vertical-align: top;\n",
       "    }\n",
       "\n",
       "    .dataframe thead th {\n",
       "        text-align: right;\n",
       "    }\n",
       "</style>\n",
       "<table border=\"1\" class=\"dataframe\">\n",
       "  <thead>\n",
       "    <tr style=\"text-align: right;\">\n",
       "      <th></th>\n",
       "      <th>기간</th>\n",
       "      <th>자치구</th>\n",
       "      <th>동</th>\n",
       "      <th>계</th>\n",
       "      <th>1인가구</th>\n",
       "      <th>2인가구</th>\n",
       "      <th>3인가구</th>\n",
       "      <th>4인가구</th>\n",
       "      <th>5인가구</th>\n",
       "      <th>6인이상가구</th>\n",
       "      <th>7인이상 가구</th>\n",
       "    </tr>\n",
       "  </thead>\n",
       "  <tbody>\n",
       "    <tr>\n",
       "      <th>1</th>\n",
       "      <td>2015</td>\n",
       "      <td>합계</td>\n",
       "      <td>합계</td>\n",
       "      <td>3.78449e+06</td>\n",
       "      <td>1.11574e+06</td>\n",
       "      <td>930467</td>\n",
       "      <td>817440</td>\n",
       "      <td>701945</td>\n",
       "      <td>169436</td>\n",
       "      <td>38547</td>\n",
       "      <td>10911</td>\n",
       "    </tr>\n",
       "    <tr>\n",
       "      <th>3</th>\n",
       "      <td>2015</td>\n",
       "      <td>종로구</td>\n",
       "      <td>사직동</td>\n",
       "      <td>3562</td>\n",
       "      <td>1125</td>\n",
       "      <td>1006</td>\n",
       "      <td>731</td>\n",
       "      <td>500</td>\n",
       "      <td>145</td>\n",
       "      <td>40</td>\n",
       "      <td>15</td>\n",
       "    </tr>\n",
       "    <tr>\n",
       "      <th>4</th>\n",
       "      <td>2015</td>\n",
       "      <td>종로구</td>\n",
       "      <td>삼청동</td>\n",
       "      <td>1092</td>\n",
       "      <td>363</td>\n",
       "      <td>296</td>\n",
       "      <td>214</td>\n",
       "      <td>151</td>\n",
       "      <td>45</td>\n",
       "      <td>14</td>\n",
       "      <td>9</td>\n",
       "    </tr>\n",
       "    <tr>\n",
       "      <th>5</th>\n",
       "      <td>2015</td>\n",
       "      <td>종로구</td>\n",
       "      <td>부암동</td>\n",
       "      <td>3841</td>\n",
       "      <td>995</td>\n",
       "      <td>1082</td>\n",
       "      <td>836</td>\n",
       "      <td>660</td>\n",
       "      <td>190</td>\n",
       "      <td>53</td>\n",
       "      <td>25</td>\n",
       "    </tr>\n",
       "    <tr>\n",
       "      <th>6</th>\n",
       "      <td>2015</td>\n",
       "      <td>종로구</td>\n",
       "      <td>평창동</td>\n",
       "      <td>6310</td>\n",
       "      <td>1252</td>\n",
       "      <td>1709</td>\n",
       "      <td>1573</td>\n",
       "      <td>1248</td>\n",
       "      <td>388</td>\n",
       "      <td>105</td>\n",
       "      <td>35</td>\n",
       "    </tr>\n",
       "  </tbody>\n",
       "</table>\n",
       "</div>"
      ],
      "text/plain": [
       "0    기간  자치구    동            계         1인가구    2인가구    3인가구    4인가구    5인가구  \\\n",
       "1  2015   합계   합계  3.78449e+06  1.11574e+06  930467  817440  701945  169436   \n",
       "3  2015  종로구  사직동         3562         1125    1006     731     500     145   \n",
       "4  2015  종로구  삼청동         1092          363     296     214     151      45   \n",
       "5  2015  종로구  부암동         3841          995    1082     836     660     190   \n",
       "6  2015  종로구  평창동         6310         1252    1709    1573    1248     388   \n",
       "\n",
       "0 6인이상가구 7인이상 가구  \n",
       "1  38547   10911  \n",
       "3     40      15  \n",
       "4     14       9  \n",
       "5     53      25  \n",
       "6    105      35  "
      ]
     },
     "execution_count": 27,
     "metadata": {},
     "output_type": "execute_result"
    }
   ],
   "source": [
    "df_2015.head()"
   ]
  },
  {
   "cell_type": "code",
   "execution_count": 25,
   "metadata": {},
   "outputs": [],
   "source": [
    "df_2015 = df_2015.rename({'6인가구': '6인이상가구'},axis =1)"
   ]
  },
  {
   "cell_type": "code",
   "execution_count": 56,
   "metadata": {},
   "outputs": [],
   "source": [
    "aperson_2015 = df_2015.sort_values(by=['1인가구'], ascending=False).head(20)"
   ]
  },
  {
   "cell_type": "code",
   "execution_count": 29,
   "metadata": {},
   "outputs": [],
   "source": [
    "fam_2015 = df_2015.sort_values(by=['4인가구','5인가구'],ascending=False).head(20)"
   ]
  },
  {
   "cell_type": "code",
   "execution_count": 87,
   "metadata": {},
   "outputs": [
    {
     "name": "stderr",
     "output_type": "stream",
     "text": [
      "C:\\Users\\lunar\\Anaconda3\\lib\\site-packages\\ipykernel_launcher.py:1: FutureWarning: Sorting because non-concatenation axis is not aligned. A future version\n",
      "of pandas will change to not sort by default.\n",
      "\n",
      "To accept the future behavior, pass 'sort=True'.\n",
      "\n",
      "To retain the current behavior and silence the warning, pass sort=False\n",
      "\n",
      "  \"\"\"Entry point for launching an IPython kernel.\n"
     ]
    }
   ],
   "source": [
    "aperson = pd.concat([aperson_2010,aperson_2015])\n",
    "\n",
    "# [df1, df4], axis=1, join_axes=[df1.index]"
   ]
  },
  {
   "cell_type": "code",
   "execution_count": 88,
   "metadata": {},
   "outputs": [],
   "source": [
    "aperson['계'] = aperson['계'].astype('int')"
   ]
  },
  {
   "cell_type": "code",
   "execution_count": 90,
   "metadata": {},
   "outputs": [],
   "source": [
    "aperson = aperson[['자치구','기간','동','계']].pivot_table(values=['계'], index=['동','자치구'],columns=['기간'])\n"
   ]
  },
  {
   "cell_type": "code",
   "execution_count": 96,
   "metadata": {},
   "outputs": [
    {
     "data": {
      "text/html": [
       "<div>\n",
       "<style scoped>\n",
       "    .dataframe tbody tr th:only-of-type {\n",
       "        vertical-align: middle;\n",
       "    }\n",
       "\n",
       "    .dataframe tbody tr th {\n",
       "        vertical-align: top;\n",
       "    }\n",
       "\n",
       "    .dataframe thead tr th {\n",
       "        text-align: left;\n",
       "    }\n",
       "\n",
       "    .dataframe thead tr:last-of-type th {\n",
       "        text-align: right;\n",
       "    }\n",
       "</style>\n",
       "<table border=\"1\" class=\"dataframe\">\n",
       "  <thead>\n",
       "    <tr>\n",
       "      <th></th>\n",
       "      <th></th>\n",
       "      <th colspan=\"2\" halign=\"left\">계</th>\n",
       "    </tr>\n",
       "    <tr>\n",
       "      <th></th>\n",
       "      <th>기간</th>\n",
       "      <th>2010</th>\n",
       "      <th>2015</th>\n",
       "    </tr>\n",
       "    <tr>\n",
       "      <th>동</th>\n",
       "      <th>자치구</th>\n",
       "      <th></th>\n",
       "      <th></th>\n",
       "    </tr>\n",
       "  </thead>\n",
       "  <tbody>\n",
       "    <tr>\n",
       "      <th>가산동</th>\n",
       "      <th>금천구</th>\n",
       "      <td>NaN</td>\n",
       "      <td>10348.0</td>\n",
       "    </tr>\n",
       "    <tr>\n",
       "      <th>구로3동</th>\n",
       "      <th>구로구</th>\n",
       "      <td>12665.0</td>\n",
       "      <td>12548.0</td>\n",
       "    </tr>\n",
       "    <tr>\n",
       "      <th>노량진1동</th>\n",
       "      <th>동작구</th>\n",
       "      <td>13855.0</td>\n",
       "      <td>16295.0</td>\n",
       "    </tr>\n",
       "    <tr>\n",
       "      <th>논현1동</th>\n",
       "      <th>강남구</th>\n",
       "      <td>13261.0</td>\n",
       "      <td>12205.0</td>\n",
       "    </tr>\n",
       "    <tr>\n",
       "      <th>논현2동</th>\n",
       "      <th>강남구</th>\n",
       "      <td>10192.0</td>\n",
       "      <td>NaN</td>\n",
       "    </tr>\n",
       "    <tr>\n",
       "      <th>대학동</th>\n",
       "      <th>관악구</th>\n",
       "      <td>15859.0</td>\n",
       "      <td>13540.0</td>\n",
       "    </tr>\n",
       "    <tr>\n",
       "      <th>상도1동</th>\n",
       "      <th>동작구</th>\n",
       "      <td>15818.0</td>\n",
       "      <td>19365.0</td>\n",
       "    </tr>\n",
       "    <tr>\n",
       "      <th>서교동</th>\n",
       "      <th>마포구</th>\n",
       "      <td>14331.0</td>\n",
       "      <td>13857.0</td>\n",
       "    </tr>\n",
       "    <tr>\n",
       "      <th>서림동</th>\n",
       "      <th>관악구</th>\n",
       "      <td>12955.0</td>\n",
       "      <td>12620.0</td>\n",
       "    </tr>\n",
       "    <tr>\n",
       "      <th>서원동</th>\n",
       "      <th>관악구</th>\n",
       "      <td>11222.0</td>\n",
       "      <td>11642.0</td>\n",
       "    </tr>\n",
       "    <tr>\n",
       "      <th>신림동</th>\n",
       "      <th>관악구</th>\n",
       "      <td>10403.0</td>\n",
       "      <td>12726.0</td>\n",
       "    </tr>\n",
       "    <tr>\n",
       "      <th>신촌동</th>\n",
       "      <th>서대문구</th>\n",
       "      <td>8889.0</td>\n",
       "      <td>11277.0</td>\n",
       "    </tr>\n",
       "    <tr>\n",
       "      <th>역삼1동</th>\n",
       "      <th>강남구</th>\n",
       "      <td>18924.0</td>\n",
       "      <td>18741.0</td>\n",
       "    </tr>\n",
       "    <tr>\n",
       "      <th>연희동</th>\n",
       "      <th>서대문구</th>\n",
       "      <td>15941.0</td>\n",
       "      <td>17270.0</td>\n",
       "    </tr>\n",
       "    <tr>\n",
       "      <th>용신동</th>\n",
       "      <th>동대문구</th>\n",
       "      <td>NaN</td>\n",
       "      <td>13654.0</td>\n",
       "    </tr>\n",
       "    <tr>\n",
       "      <th>이문1동</th>\n",
       "      <th>동대문구</th>\n",
       "      <td>14094.0</td>\n",
       "      <td>15227.0</td>\n",
       "    </tr>\n",
       "    <tr>\n",
       "      <th>인헌동</th>\n",
       "      <th>관악구</th>\n",
       "      <td>11882.0</td>\n",
       "      <td>NaN</td>\n",
       "    </tr>\n",
       "    <tr>\n",
       "      <th>청룡동</th>\n",
       "      <th>관악구</th>\n",
       "      <td>15709.0</td>\n",
       "      <td>15766.0</td>\n",
       "    </tr>\n",
       "    <tr>\n",
       "      <th>합계</th>\n",
       "      <th>합계</th>\n",
       "      <td>3504297.0</td>\n",
       "      <td>3784490.0</td>\n",
       "    </tr>\n",
       "    <tr>\n",
       "      <th>행운동</th>\n",
       "      <th>관악구</th>\n",
       "      <td>13596.0</td>\n",
       "      <td>14676.0</td>\n",
       "    </tr>\n",
       "    <tr>\n",
       "      <th>화곡1동</th>\n",
       "      <th>강서구</th>\n",
       "      <td>18686.0</td>\n",
       "      <td>21425.0</td>\n",
       "    </tr>\n",
       "    <tr>\n",
       "      <th>화양동</th>\n",
       "      <th>광진구</th>\n",
       "      <td>11981.0</td>\n",
       "      <td>15466.0</td>\n",
       "    </tr>\n",
       "  </tbody>\n",
       "</table>\n",
       "</div>"
      ],
      "text/plain": [
       "                    계           \n",
       "기간               2010       2015\n",
       "동     자치구                       \n",
       "가산동   금천구         NaN    10348.0\n",
       "구로3동  구로구     12665.0    12548.0\n",
       "노량진1동 동작구     13855.0    16295.0\n",
       "논현1동  강남구     13261.0    12205.0\n",
       "논현2동  강남구     10192.0        NaN\n",
       "대학동   관악구     15859.0    13540.0\n",
       "상도1동  동작구     15818.0    19365.0\n",
       "서교동   마포구     14331.0    13857.0\n",
       "서림동   관악구     12955.0    12620.0\n",
       "서원동   관악구     11222.0    11642.0\n",
       "신림동   관악구     10403.0    12726.0\n",
       "신촌동   서대문구     8889.0    11277.0\n",
       "역삼1동  강남구     18924.0    18741.0\n",
       "연희동   서대문구    15941.0    17270.0\n",
       "용신동   동대문구        NaN    13654.0\n",
       "이문1동  동대문구    14094.0    15227.0\n",
       "인헌동   관악구     11882.0        NaN\n",
       "청룡동   관악구     15709.0    15766.0\n",
       "합계    합계    3504297.0  3784490.0\n",
       "행운동   관악구     13596.0    14676.0\n",
       "화곡1동  강서구     18686.0    21425.0\n",
       "화양동   광진구     11981.0    15466.0"
      ]
     },
     "execution_count": 96,
     "metadata": {},
     "output_type": "execute_result"
    }
   ],
   "source": [
    "aperson"
   ]
  },
  {
   "cell_type": "markdown",
   "metadata": {},
   "source": [
    "Top20 1인가구 동네를 구해보았다. 1인가구는 점점 늘어나고 있는 추세이다. \n",
    "2010대비 새로생긴 1인가구동네는 금천구 가산동과 동대문구 용신동이다. \n",
    "2015년에 사라진 1인가구동네는 강남구 논현2동과 관악구 인헌동이다. \n"
   ]
  },
  {
   "cell_type": "code",
   "execution_count": null,
   "metadata": {},
   "outputs": [],
   "source": []
  }
 ],
 "metadata": {
  "kernelspec": {
   "display_name": "Python 3",
   "language": "python",
   "name": "python3"
  },
  "language_info": {
   "codemirror_mode": {
    "name": "ipython",
    "version": 3
   },
   "file_extension": ".py",
   "mimetype": "text/x-python",
   "name": "python",
   "nbconvert_exporter": "python",
   "pygments_lexer": "ipython3",
   "version": "3.6.5"
  }
 },
 "nbformat": 4,
 "nbformat_minor": 2
}

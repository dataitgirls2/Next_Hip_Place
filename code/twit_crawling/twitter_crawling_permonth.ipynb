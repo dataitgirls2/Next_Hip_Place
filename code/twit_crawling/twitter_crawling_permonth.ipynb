{
 "cells": [
  {
   "cell_type": "markdown",
   "metadata": {},
   "source": [
    "# 특정단어가 언급된 트위터 개수 크롤링하기 - 한 달씩 (ex. 연남동)\n",
    "\n",
    "참고 : [왕형준님 블로그](https://medium.com/@whj2013123218/%ED%8C%8C%EC%9D%B4%EC%8D%AC%EC%9D%84-%EC%9D%B4%EC%9A%A9%ED%95%9C-twitter-%ED%81%AC%EB%A1%A4%EB%A7%81-576f7b098daf)\n",
    "\n",
    "중복되는 코드를 없앴고 연도별 데이터를 보는 우리 프로젝트에 맞게 코드를 조금 수정했다\n",
    "\n",
    "total_twitter_permonth 함수 : 기간, 동, 트윗 수, 하트 수, 연도로 데이터프레임을 반환"
   ]
  },
  {
   "cell_type": "code",
   "execution_count": 4,
   "metadata": {},
   "outputs": [],
   "source": [
    "from bs4 import BeautifulSoup\n",
    "import requests\n",
    "from selenium import webdriver\n",
    "from selenium.webdriver.firefox.firefox_binary import  FirefoxBinary\n",
    "from selenium.webdriver.common.desired_capabilities import  DesiredCapabilities\n",
    "import time\n",
    "from selenium.webdriver.common.keys import Keys\n",
    "import datetime as dt\n",
    "import pandas as pd\n",
    "import numpy as np\n",
    "from dateutil.relativedelta import relativedelta\n",
    "import re\n",
    "import warnings\n",
    "warnings.filterwarnings('ignore')"
   ]
  },
  {
   "cell_type": "markdown",
   "metadata": {},
   "source": [
    "아래 코드를 실행시키기 위해서는\n",
    "\n",
    "1) Firefox 브라우저가 깔려있어야 합니다.\n",
    "\n",
    "2) geckodriver.exe가 현재 디렉토리에 있는지 확인해주세요.\n"
   ]
  },
  {
   "cell_type": "code",
   "execution_count": 5,
   "metadata": {},
   "outputs": [],
   "source": [
    "def total_twitter_permonth(keyword,startyear,endyear):\n",
    "    binary=FirefoxBinary('C:/Program Files/Mozilla Firefox/firefox.exe')\n",
    "    browser=webdriver.Firefox(executable_path='geckodriver.exe',firefox_binary=binary)\n",
    "    \n",
    "    df = pd.DataFrame(data={'Date':[],'Frequency':[],'Heart':[],'Year':[],'Dong':[]})\n",
    "    \n",
    "    for loc in keyword:\n",
    "        print(loc)\n",
    "        for y in range(startyear,endyear+1):\n",
    "            startdate = dt.date(year=y,month=1,day=1)\n",
    "            untildate = dt.date(year=y,month=2,day=1)\n",
    "\n",
    "            if y == 2018 :\n",
    "                enddate = dt.date(year=y,month=9,day=1)\n",
    "            else :\n",
    "                enddate = dt.date(year=y+1,month=1,day=1)\n",
    "\n",
    "            totalfreq=[]\n",
    "            while not enddate == startdate:\n",
    "                url='https://twitter.com/search?&q=\"'+str(loc)+'\"%20since%3A'+str(startdate)+'%20until%3A'+str(untildate)+'&src=typd'\n",
    "                browser.get(url)\n",
    "\n",
    "                lastHeight = browser.execute_script(\"return document.body.scrollHeight\")  # 스크롤 내리기 전 위치\n",
    "                while True:\n",
    "                    browser.execute_script(\"window.scrollTo(0, document.body.scrollHeight);\")  # 스크롤을 맨 아래까지 내림\n",
    "                    time.sleep(4)  # 로딩하는 시간때문에 sleep을 걸어줍니다.\n",
    "\n",
    "                    newHeight = browser.execute_script(\"return document.body.scrollHeight\")  # 현재 스크롤 위치\n",
    "\n",
    "                    if newHeight == lastHeight:  # 더이상 로딩될 트윗이 없다면\n",
    "                        html = browser.page_source\n",
    "                        soup = BeautifulSoup(html,'html.parser')\n",
    "\n",
    "                        tweets = soup.find_all(\"p\", {\"class\": \"TweetTextSize\"})\n",
    "                        wordfreq = len(tweets)  # 페이지에 있는 트윗개수\n",
    "\n",
    "                        heartfreq = 0\n",
    "                        hearts = soup.find_all(\"span\",text = re.compile(\"\\d 마음\"))\n",
    "                        for hf in hearts:\n",
    "                            heartfreq += int(hf.text[:-3].replace(',',''))\n",
    "\n",
    "                        dailyfreq = {'Date':startdate,'Frequency':wordfreq,'Heart':heartfreq,'Year':startdate.year,'Dong':loc}\n",
    "                        totalfreq.append(dailyfreq)\n",
    "\n",
    "                        # 다음 작업을 위해 하루 늘려줌                  \n",
    "                        startdate = untildate\n",
    "                        untildate += relativedelta(months=1)\n",
    "                        # 초기화\n",
    "                        wordfreq = 0\n",
    "                        dailyfreq = {}\n",
    "                        break\n",
    "                    lastHeight = newHeight\n",
    "\n",
    "            df = pd.concat([df,pd.DataFrame(totalfreq)])\n",
    "    return df"
   ]
  },
  {
   "cell_type": "markdown",
   "metadata": {},
   "source": [
    "2009 ~ 2017\n",
    "\n",
    "ss: 성수동 , mw: 망원동 , se: 서울대입구 or 샤로수길\n",
    "\n",
    "sh: 신사동 , sc: 삼청동 , mg:명동\n",
    "\n",
    "sd: 상도동 , mk: 목동 , sj:신정동 , sg:상계동"
   ]
  },
  {
   "cell_type": "code",
   "execution_count": 4,
   "metadata": {},
   "outputs": [],
   "source": [
    "# loc_dict = {'성수동':'ss' , '망원동':'mw' , '샤로수길':'se', \n",
    "#             '신사동':'sh' , '삼청동':'sc' , '명동':'md',\n",
    "#             '상도동':'sd' , '목동':'mk' , '명일동':'mi', '상계동':'sg'}"
   ]
  },
  {
   "cell_type": "code",
   "execution_count": null,
   "metadata": {},
   "outputs": [
    {
     "name": "stderr",
     "output_type": "stream",
     "text": [
      "C:\\Anaconda3\\lib\\site-packages\\ipykernel_launcher.py:41: FutureWarning: Sorting because non-concatenation axis is not aligned. A future version\n",
      "of pandas will change to not sort by default.\n",
      "\n",
      "To accept the future behavior, pass 'sort=True'.\n",
      "\n",
      "To retain the current behavior and silence the warning, pass sort=False\n",
      "\n"
     ]
    }
   ],
   "source": [
    "# for loc in ['삼청동','명동','상도동','목동','명일동','상계동'] :\n",
    "#     df = total_twitter_permonth(loc,2009,2017)\n",
    "#     df.to_csv('df_'+loc_dict[loc]+'.csv',encoding='utf-8',index=False)"
   ]
  },
  {
   "cell_type": "code",
   "execution_count": 8,
   "metadata": {},
   "outputs": [
    {
     "name": "stderr",
     "output_type": "stream",
     "text": [
      "C:\\Anaconda3\\lib\\site-packages\\ipykernel_launcher.py:41: FutureWarning: Sorting because non-concatenation axis is not aligned. A future version\n",
      "of pandas will change to not sort by default.\n",
      "\n",
      "To accept the future behavior, pass 'sort=True'.\n",
      "\n",
      "To retain the current behavior and silence the warning, pass sort=False\n",
      "\n"
     ]
    }
   ],
   "source": [
    "# df = total_twitter_permonth('가로수길',2009,2017)\n",
    "# df.to_csv('df_garosu.csv',encoding='utf-8',index=False)"
   ]
  },
  {
   "cell_type": "code",
   "execution_count": 9,
   "metadata": {},
   "outputs": [],
   "source": [
    "# df_ss = pd.read_csv('df_ss.csv')"
   ]
  },
  {
   "cell_type": "code",
   "execution_count": 15,
   "metadata": {},
   "outputs": [],
   "source": [
    "# for n in range(8,19):\n",
    "#     df_ss.loc[df_ss['Date'].str.contains('200'+str(n))|df_ss['Date'].str.contains('20'+str(n)),'Year'] = 2000+n"
   ]
  },
  {
   "cell_type": "code",
   "execution_count": 17,
   "metadata": {},
   "outputs": [],
   "source": [
    "# df_ss.to_csv('df_ss.csv',encoding='utf-8-sig',index=False)"
   ]
  },
  {
   "cell_type": "markdown",
   "metadata": {},
   "source": [
    "### 서울시 467개동"
   ]
  },
  {
   "cell_type": "code",
   "execution_count": 3,
   "metadata": {
    "scrolled": true
   },
   "outputs": [],
   "source": [
    "land = pd.read_csv('Report.csv',encoding='cp949')"
   ]
  },
  {
   "cell_type": "code",
   "execution_count": 4,
   "metadata": {
    "scrolled": true
   },
   "outputs": [
    {
     "data": {
      "text/plain": [
       "['사당동',\n",
       " '의주로',\n",
       " '도렴동',\n",
       " '잠실동',\n",
       " '신촌동',\n",
       " '회현동',\n",
       " '명륜',\n",
       " '답십리동',\n",
       " '청파동',\n",
       " '무악동',\n",
       " '장충동',\n",
       " '양평동',\n",
       " '공릉동',\n",
       " '불광동',\n",
       " '필동',\n",
       " '신정동',\n",
       " '입정동',\n",
       " '서계동',\n",
       " '마천동',\n",
       " '논현동',\n",
       " '가양동',\n",
       " '장교동',\n",
       " '거여동',\n",
       " '삼성동',\n",
       " '마곡동',\n",
       " '수송동',\n",
       " '후암동',\n",
       " '홍은동',\n",
       " '대방동',\n",
       " '창전동',\n",
       " '도원동',\n",
       " '풍납동',\n",
       " '창천동',\n",
       " '창성동',\n",
       " '동자동',\n",
       " '신길동',\n",
       " '휘경동',\n",
       " '관수동',\n",
       " '항동',\n",
       " '신대방동',\n",
       " '중계동',\n",
       " '소공동',\n",
       " '송월동',\n",
       " '관철동',\n",
       " '신문로',\n",
       " '우이동',\n",
       " '남산동',\n",
       " '주자동',\n",
       " '염리동',\n",
       " '홍지동',\n",
       " '아현동',\n",
       " '통인동',\n",
       " '연지동',\n",
       " '구산동',\n",
       " '자곡동',\n",
       " '화동',\n",
       " '장지동',\n",
       " '대현동',\n",
       " '묵정동',\n",
       " '명일동',\n",
       " '수색동',\n",
       " '가락동',\n",
       " '수표동',\n",
       " '화곡동',\n",
       " '성수동',\n",
       " '장위동',\n",
       " '송현동',\n",
       " '청운동',\n",
       " '상계동',\n",
       " '금호동',\n",
       " '방화동',\n",
       " '남가좌동',\n",
       " '삼전동',\n",
       " '응봉동',\n",
       " '길동',\n",
       " '반포동',\n",
       " '시흥동',\n",
       " '남학동',\n",
       " '용산동',\n",
       " '부암동',\n",
       " '상도동',\n",
       " '독산동',\n",
       " '중곡동',\n",
       " '오쇠동',\n",
       " '군자동',\n",
       " '신계동',\n",
       " '자양동',\n",
       " '평동',\n",
       " '구수동',\n",
       " '누하동',\n",
       " '오장동',\n",
       " '하계동',\n",
       " '본동',\n",
       " '신당동',\n",
       " '성북동',\n",
       " '쌍문동',\n",
       " '다동',\n",
       " '창동',\n",
       " '사근동',\n",
       " '염창동',\n",
       " '오금동',\n",
       " '홍제동',\n",
       " '오류동',\n",
       " '순화동',\n",
       " '성내동',\n",
       " '청암동',\n",
       " '계동',\n",
       " '능동',\n",
       " '원효로',\n",
       " '봉익동',\n",
       " '산림동',\n",
       " '역촌동',\n",
       " '상왕십리동',\n",
       " '개포동',\n",
       " '내자동',\n",
       " '회기동',\n",
       " '효제동',\n",
       " '신내동',\n",
       " '상일동',\n",
       " '방산동',\n",
       " '공덕동',\n",
       " '종로',\n",
       " '봉천동',\n",
       " '연희동',\n",
       " '묘동',\n",
       " '응암동',\n",
       " '현저동',\n",
       " '방학동',\n",
       " '동소문동',\n",
       " '체부동',\n",
       " '삼선동',\n",
       " '마장동',\n",
       " '을지로',\n",
       " '도선동',\n",
       " '망우동',\n",
       " '목동',\n",
       " '화양동',\n",
       " '상수동',\n",
       " '명동',\n",
       " '개화동',\n",
       " '수하동',\n",
       " '와룡동',\n",
       " '충정로',\n",
       " '냉천동',\n",
       " '강일동',\n",
       " '신월동',\n",
       " '송정동',\n",
       " '북가좌동',\n",
       " '권농동',\n",
       " '고척동',\n",
       " '황학동',\n",
       " '당인동',\n",
       " '무교동',\n",
       " '견지동',\n",
       " '제기동',\n",
       " '염곡동',\n",
       " '당주동',\n",
       " '천호동',\n",
       " '외발산동',\n",
       " '사간동',\n",
       " '갈현동',\n",
       " '전농동',\n",
       " '홍파동',\n",
       " '훈정동',\n",
       " '상봉동',\n",
       " '상암동',\n",
       " '도림동',\n",
       " '율현동',\n",
       " '신도림동',\n",
       " '궁정동',\n",
       " '동숭동',\n",
       " '방이동',\n",
       " '궁동',\n",
       " '여의도동',\n",
       " '효창동',\n",
       " '갈월동',\n",
       " '주성동',\n",
       " '정릉동',\n",
       " '돈암동',\n",
       " '남현동',\n",
       " '장안동',\n",
       " '동선동',\n",
       " '동작동',\n",
       " '북창동',\n",
       " '흥인동',\n",
       " '서린동',\n",
       " '신림동',\n",
       " '도곡동',\n",
       " '도봉동',\n",
       " '공항동',\n",
       " '동빙고동',\n",
       " '내수동',\n",
       " '청담동',\n",
       " '광희동',\n",
       " '면목동',\n",
       " '잠원동',\n",
       " '원지동',\n",
       " '송파동',\n",
       " '재동',\n",
       " '세곡동',\n",
       " '적선동',\n",
       " '남창동',\n",
       " '수서동',\n",
       " '문정동',\n",
       " '길음동',\n",
       " '대치동',\n",
       " '노고산동',\n",
       " '용답동',\n",
       " '용두동',\n",
       " '인현동',\n",
       " '동교동',\n",
       " '옥수동',\n",
       " '성산동',\n",
       " '중동',\n",
       " '역삼동',\n",
       " '서소문동',\n",
       " '쌍림동',\n",
       " '안국동',\n",
       " '예관동',\n",
       " '인사동',\n",
       " '운니동',\n",
       " '구의동',\n",
       " '옥천동',\n",
       " '진관동',\n",
       " '당산동',\n",
       " '등촌동',\n",
       " '초동',\n",
       " '태평로',\n",
       " '영천동',\n",
       " '중림동',\n",
       " '신영동',\n",
       " '현석동',\n",
       " '신수동',\n",
       " '정동',\n",
       " '하왕십리동',\n",
       " '신원동',\n",
       " '양화동',\n",
       " '미아동',\n",
       " '이화동',\n",
       " '용강동',\n",
       " '옥인동',\n",
       " '대흥동',\n",
       " '압구정동',\n",
       " '낙원동',\n",
       " '무학동',\n",
       " '이태원동',\n",
       " '산천동',\n",
       " '신설동',\n",
       " '교북동',\n",
       " '이문동',\n",
       " '인의동',\n",
       " '행당동',\n",
       " '만리동',\n",
       " '온수동',\n",
       " '삼청동',\n",
       " '오곡동',\n",
       " '대조동',\n",
       " '과해동',\n",
       " '천왕동',\n",
       " '팔판동',\n",
       " '흑석동',\n",
       " '원남동',\n",
       " '증산동',\n",
       " '평창동',\n",
       " '예장동',\n",
       " '혜화동',\n",
       " '월계동',\n",
       " '공평동',\n",
       " '북아현동',\n",
       " '토정동',\n",
       " '누상동',\n",
       " '충신동',\n",
       " '합정동',\n",
       " '청량리동',\n",
       " '주교동',\n",
       " '망원동',\n",
       " '신천동',\n",
       " '서빙고동',\n",
       " '신창동',\n",
       " '우면동',\n",
       " '번동',\n",
       " '구로동',\n",
       " '도화동',\n",
       " '세종로',\n",
       " '행촌동',\n",
       " '암사동',\n",
       " '녹번동',\n",
       " '홍익동',\n",
       " '석촌동',\n",
       " '가리봉동',\n",
       " '한강로',\n",
       " '관훈동',\n",
       " '소격동',\n",
       " '문래동',\n",
       " '봉원동',\n",
       " '충무로',\n",
       " '중화동',\n",
       " '용문동',\n",
       " '고덕동',\n",
       " '장사동',\n",
       " '종암동',\n",
       " '보광동',\n",
       " '신사동',\n",
       " '양재동',\n",
       " '상월곡동',\n",
       " '일원동',\n",
       " '미근동',\n",
       " '천연동',\n",
       " '이촌동',\n",
       " '서초동',\n",
       " '마포동',\n",
       " '남영동',\n",
       " '사직동',\n",
       " '효자동',\n",
       " '보문동',\n",
       " '청진동',\n",
       " '돈의동',\n",
       " '저동',\n",
       " '노량진동',\n",
       " '대림동',\n",
       " '중학동',\n",
       " '봉래동',\n",
       " '내곡동',\n",
       " '삼각동',\n",
       " '방배동',\n",
       " '합동',\n",
       " '대신동',\n",
       " '교남동',\n",
       " '익선동',\n",
       " '연건동',\n",
       " '경운동',\n",
       " '원서동',\n",
       " '통의동',\n",
       " '신교동',\n",
       " '구기동',\n",
       " '개봉동',\n",
       " '내발산동',\n",
       " '한남동',\n",
       " '창신동',\n",
       " '연남동',\n",
       " '하중동',\n",
       " '남대문로',\n",
       " '가회동',\n",
       " '필운동',\n",
       " '가산동',\n",
       " '문배동',\n",
       " '안암동',\n",
       " '서교동',\n",
       " '영등포동',\n",
       " '둔촌동',\n",
       " '묵동',\n",
       " '수유동',\n",
       " '광장동',\n",
       " '하월곡동',\n",
       " '석관동',\n",
       " '예지동',\n",
       " '숭인동',\n",
       " '신공덕동']"
      ]
     },
     "execution_count": 4,
     "metadata": {},
     "output_type": "execute_result"
    }
   ],
   "source": [
    "dong_list = []\n",
    "for d in land['법정동'].unique()[3:]:\n",
    "    d = re.sub('\\d가','',d)\n",
    "    d = re.sub('\\d동','동',d)\n",
    "    dong_list.append(d)\n",
    "dong_list = list(set(dong_list))\n",
    "dong_list"
   ]
  },
  {
   "cell_type": "code",
   "execution_count": 5,
   "metadata": {},
   "outputs": [
    {
     "data": {
      "text/plain": [
       "358"
      ]
     },
     "execution_count": 5,
     "metadata": {},
     "output_type": "execute_result"
    }
   ],
   "source": [
    "len(dong_list)"
   ]
  },
  {
   "cell_type": "code",
   "execution_count": 11,
   "metadata": {
    "scrolled": true
   },
   "outputs": [
    {
     "name": "stdout",
     "output_type": "stream",
     "text": [
      "염곡동\n"
     ]
    },
    {
     "name": "stderr",
     "output_type": "stream",
     "text": [
      "C:\\Anaconda3\\lib\\site-packages\\ipykernel_launcher.py:50: FutureWarning: Sorting because non-concatenation axis is not aligned. A future version\n",
      "of pandas will change to not sort by default.\n",
      "\n",
      "To accept the future behavior, pass 'sort=True'.\n",
      "\n",
      "To retain the current behavior and silence the warning, pass sort=False\n",
      "\n"
     ]
    },
    {
     "name": "stdout",
     "output_type": "stream",
     "text": [
      "내발산동\n",
      "관수동\n",
      "번동\n",
      "교북동\n",
      "이태원동\n",
      "여의도동\n",
      "보문동\n"
     ]
    }
   ],
   "source": [
    "for n in range(1,71):\n",
    "    df = total_twitter_permonth(dong_list[5*n:5*(n+1)],2009,2017)\n",
    "    df.to_csv('twit_seoul/seoul_dong_'+str(n)+'.csv',encoding='utf-8-sig',index=False)"
   ]
  },
  {
   "cell_type": "code",
   "execution_count": 13,
   "metadata": {},
   "outputs": [
    {
     "name": "stdout",
     "output_type": "stream",
     "text": [
      "이태원동\n"
     ]
    },
    {
     "name": "stderr",
     "output_type": "stream",
     "text": [
      "C:\\Anaconda3\\lib\\site-packages\\ipykernel_launcher.py:50: FutureWarning: Sorting because non-concatenation axis is not aligned. A future version\n",
      "of pandas will change to not sort by default.\n",
      "\n",
      "To accept the future behavior, pass 'sort=True'.\n",
      "\n",
      "To retain the current behavior and silence the warning, pass sort=False\n",
      "\n"
     ]
    },
    {
     "name": "stdout",
     "output_type": "stream",
     "text": [
      "여의도동\n",
      "보문동\n"
     ]
    }
   ],
   "source": [
    "df = total_twitter_permonth(dong_list[355:],2009,2017)\n",
    "df.to_csv('twit_seoul/seoul_dong_72.csv',encoding='utf-8-sig',index=False)"
   ]
  },
  {
   "cell_type": "code",
   "execution_count": null,
   "metadata": {},
   "outputs": [
    {
     "name": "stdout",
     "output_type": "stream",
     "text": [
      "익선동\n"
     ]
    }
   ],
   "source": [
    "df = total_twitter_permonth(['익선동'],2009,2017)\n",
    "df.to_csv('twit_seoul/seoul_dong_is.csv',encoding='utf-8-sig',index=False)"
   ]
  },
  {
   "cell_type": "code",
   "execution_count": 15,
   "metadata": {},
   "outputs": [
    {
     "name": "stdout",
     "output_type": "stream",
     "text": [
      "연남동\n"
     ]
    }
   ],
   "source": [
    "df = total_twitter_permonth(['연남동'],2009,2017)\n",
    "df.to_csv('twit_seoul/seoul_dong_yn.csv',encoding='utf-8-sig',index=False)"
   ]
  },
  {
   "cell_type": "code",
   "execution_count": 6,
   "metadata": {},
   "outputs": [
    {
     "name": "stdout",
     "output_type": "stream",
     "text": [
      "후암동\n"
     ]
    }
   ],
   "source": [
    "df = total_twitter_permonth(['후암동'],2009,2017)\n",
    "df.to_csv('twit_seoul/seoul_dong_ha.csv',encoding='utf-8-sig',index=False)"
   ]
  },
  {
   "cell_type": "code",
   "execution_count": 17,
   "metadata": {},
   "outputs": [
    {
     "name": "stdout",
     "output_type": "stream",
     "text": [
      "성수동\n"
     ]
    }
   ],
   "source": [
    "df = total_twitter_permonth(['성수동'],2009,2017)\n",
    "df.to_csv('twit_seoul/seoul_dong_ss.csv',encoding='utf-8-sig',index=False)"
   ]
  },
  {
   "cell_type": "code",
   "execution_count": 10,
   "metadata": {},
   "outputs": [
    {
     "name": "stdout",
     "output_type": "stream",
     "text": [
      "봉천동\n"
     ]
    }
   ],
   "source": [
    "df = total_twitter_permonth(['봉천동'],2009,2017)\n",
    "df.to_csv('twit_seoul/seoul_dong_bc.csv',encoding='utf-8-sig',index=False)"
   ]
  },
  {
   "cell_type": "code",
   "execution_count": 11,
   "metadata": {},
   "outputs": [
    {
     "name": "stdout",
     "output_type": "stream",
     "text": [
      "망원동\n"
     ]
    }
   ],
   "source": [
    "df = total_twitter_permonth(['망원동'],2009,2017)\n",
    "df.to_csv('twit_seoul/seoul_dong_mw.csv',encoding='utf-8-sig',index=False)"
   ]
  },
  {
   "cell_type": "code",
   "execution_count": null,
   "metadata": {},
   "outputs": [],
   "source": []
  }
 ],
 "metadata": {
  "kernelspec": {
   "display_name": "Python 3",
   "language": "python",
   "name": "python3"
  },
  "language_info": {
   "codemirror_mode": {
    "name": "ipython",
    "version": 3
   },
   "file_extension": ".py",
   "mimetype": "text/x-python",
   "name": "python",
   "nbconvert_exporter": "python",
   "pygments_lexer": "ipython3",
   "version": "3.6.5"
  }
 },
 "nbformat": 4,
 "nbformat_minor": 2
}

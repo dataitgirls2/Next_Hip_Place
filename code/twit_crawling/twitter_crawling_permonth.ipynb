{
 "cells": [
  {
   "cell_type": "markdown",
   "metadata": {},
   "source": [
    "# 특정단어가 언급된 트위터 개수 크롤링하기 - 한 달씩 (ex. 연남동)\n",
    "\n",
    "참고 : [왕형준님 블로그](https://medium.com/@whj2013123218/%ED%8C%8C%EC%9D%B4%EC%8D%AC%EC%9D%84-%EC%9D%B4%EC%9A%A9%ED%95%9C-twitter-%ED%81%AC%EB%A1%A4%EB%A7%81-576f7b098daf)\n",
    "\n",
    "중복되는 코드를 없앴고 년도별 데이터를 보는 우리 프로젝트에 맞게 코드를 조금 수정했다"
   ]
  },
  {
   "cell_type": "code",
   "execution_count": 2,
   "metadata": {},
   "outputs": [],
   "source": [
    "from bs4 import BeautifulSoup\n",
    "import requests\n",
    "from selenium import webdriver\n",
    "from selenium.webdriver.firefox.firefox_binary import  FirefoxBinary\n",
    "from selenium.webdriver.common.desired_capabilities import  DesiredCapabilities\n",
    "import time\n",
    "from selenium.webdriver.common.keys import Keys\n",
    "import datetime as dt\n",
    "import pandas as pd\n",
    "from dateutil.relativedelta import relativedelta"
   ]
  },
  {
   "cell_type": "markdown",
   "metadata": {},
   "source": [
    "아래 코드를 실행시키기 위해서는\n",
    "\n",
    "1) Firefox 브라우저가 깔려있어야 합니다.\n",
    "\n",
    "2) geckodriver.exe가 현재 디렉토리에 있는지 확인해주세요.\n"
   ]
  },
  {
   "cell_type": "code",
   "execution_count": 3,
   "metadata": {},
   "outputs": [],
   "source": [
    "def total_twitter_permonth(keyword,startyear,endyear):\n",
    "    df = pd.DataFrame(data={'Date':[],'Frequency':[]})\n",
    "    for y in range(startyear,endyear+1):\n",
    "        startdate = dt.date(year=y,month=1,day=1)\n",
    "        untildate = dt.date(year=y,month=2,day=1)\n",
    "        \n",
    "        if y == 2018 :\n",
    "            enddate = dt.date(year=y,month=9,day=1)\n",
    "        else :\n",
    "            enddate = dt.date(year=y+1,month=1,day=1)\n",
    "\n",
    "        totalfreq=[]\n",
    "        while not enddate == startdate:\n",
    "            url='https://twitter.com/search?&q='+str(keyword)+'%20since%3A'+str(startdate)+'%20until%3A'+str(untildate)+'&src=typd'\n",
    "            browser.get(url)\n",
    "\n",
    "            lastHeight = browser.execute_script(\"return document.body.scrollHeight\")  # 스크롤 내리기 전 위치\n",
    "            while True:\n",
    "                browser.execute_script(\"window.scrollTo(0, document.body.scrollHeight);\")  # 스크롤을 맨 아래까지 내림\n",
    "                time.sleep(2)  # 로딩하는 시간때문에 sleep을 걸어줍니다.\n",
    "\n",
    "                newHeight = browser.execute_script(\"return document.body.scrollHeight\")  # 현재 스크롤 위치\n",
    "\n",
    "                if newHeight == lastHeight:  # 더이상 로딩될 트윗이 없다면\n",
    "                    html = browser.page_source\n",
    "                    soup = BeautifulSoup(html,'html.parser')\n",
    "                    tweets = soup.find_all(\"p\", {\"class\": \"TweetTextSize\"})\n",
    "                    wordfreq = len(tweets)  # 페이지에 있는 트윗개수\n",
    "                    dailyfreq = {'Date':startdate,'Frequency':wordfreq}\n",
    "                    totalfreq.append(dailyfreq)\n",
    "\n",
    "                    # 다음 작업을 위해 하루 늘려줌                  \n",
    "                    startdate = untildate\n",
    "                    untildate += relativedelta(months=1)\n",
    "                    # 초기화\n",
    "                    wordfreq = 0\n",
    "                    dailyfreq = {}\n",
    "                    break\n",
    "                lastHeight = newHeight\n",
    "\n",
    "        df = pd.concat([df,pd.DataFrame(totalfreq)])\n",
    "    return df"
   ]
  },
  {
   "cell_type": "code",
   "execution_count": null,
   "metadata": {},
   "outputs": [],
   "source": [
    "binary=FirefoxBinary('C:/Program Files/Mozilla Firefox/firefox.exe')\n",
    "browser=webdriver.Firefox(executable_path='geckodriver.exe',firefox_binary=binary)"
   ]
  }
 ],
 "metadata": {
  "kernelspec": {
   "display_name": "Python 3",
   "language": "python",
   "name": "python3"
  },
  "language_info": {
   "codemirror_mode": {
    "name": "ipython",
    "version": 3
   },
   "file_extension": ".py",
   "mimetype": "text/x-python",
   "name": "python",
   "nbconvert_exporter": "python",
   "pygments_lexer": "ipython3",
   "version": "3.6.5"
  }
 },
 "nbformat": 4,
 "nbformat_minor": 2
}
